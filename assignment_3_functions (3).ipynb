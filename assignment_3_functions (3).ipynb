{
  "nbformat": 4,
  "nbformat_minor": 0,
  "metadata": {
    "colab": {
      "provenance": []
    },
    "kernelspec": {
      "name": "python3",
      "display_name": "Python 3"
    },
    "language_info": {
      "name": "python"
    }
  },
  "cells": [
    {
      "cell_type": "markdown",
      "source": [
        "1. What is the difference between a function and a\n",
        "method in Python?\n",
        "ans- function:\n",
        "a function\n",
        "\n",
        " is a standalone block of code that is defined independently and can be called directly by its name. It operates on data passed to it as arguments and typically returns a result. Functions are not associated with any particular object or class instance.\n",
        "\n",
        "\n",
        "method:\n",
        "\n",
        "\n",
        "A method is a function that is defined within a class and is associated with objects of that class. Methods are called on an object using dot notation (e.g., object.method()) and can access and modify the object's attributes (data)"
      ],
      "metadata": {
        "id": "ogoFRh0rS5D2"
      }
    },
    {
      "cell_type": "code",
      "source": [
        "#example function\n",
        "def greet(name):\n",
        "    return f\"Hello, {name}!\"\n",
        "\n",
        "message = greet(\"xyz\")\n",
        "print(message)\n",
        "\n",
        "\n",
        "\n"
      ],
      "metadata": {
        "colab": {
          "base_uri": "https://localhost:8080/"
        },
        "id": "24Wy1I7lT8Ax",
        "outputId": "aa1189ef-8ea8-487b-8401-edfd2ac3fd1c"
      },
      "execution_count": null,
      "outputs": [
        {
          "output_type": "stream",
          "name": "stdout",
          "text": [
            "Hello, xyz!\n"
          ]
        }
      ]
    },
    {
      "cell_type": "code",
      "source": [
        "# Method example\n",
        "text = \"hello world\"\n",
        "print(text.upper()) # Calling a method belonging to string object\n",
        "# Output: HELLO WORLD"
      ],
      "metadata": {
        "colab": {
          "base_uri": "https://localhost:8080/"
        },
        "id": "4ZDvAKI9Uv_c",
        "outputId": "d79161b7-e5ca-4ed0-8193-d77727642395"
      },
      "execution_count": null,
      "outputs": [
        {
          "output_type": "stream",
          "name": "stdout",
          "text": [
            "HELLO WORLD\n"
          ]
        }
      ]
    },
    {
      "cell_type": "markdown",
      "source": [
        "2. Explain the concept of function arguments and\n",
        "parameters in Python.\n",
        "ans-\n",
        "Parameters → Variables defined in the function definition that accept input values.\n",
        "\n",
        "Arguments → Actual values passed to the function when it is called.\n",
        "Python supports different types of arguments:\n",
        "\n",
        ". Positional arguments\n",
        ". Keyword arguments\n",
        ". Default arguments\n",
        ". Variable-length arguments"
      ],
      "metadata": {
        "id": "QSj8l2z9VD2a"
      }
    },
    {
      "cell_type": "code",
      "source": [
        "# Function with parameters\n",
        "def greet(name, message=\"Good Morning\"):\n",
        "    return f\"Hello {name}, {message}!\"\n",
        "\n",
        "# Positional argument\n",
        "print(greet(\"XYZ\"))\n",
        "\n",
        "# Keyword argument\n",
        "print(greet(name=\"XYZ\", message=\"Welcome to Python\"))\n",
        "\n",
        "\n",
        "\n",
        "# Default argument\n",
        "print(greet(\"XYZ\"))"
      ],
      "metadata": {
        "colab": {
          "base_uri": "https://localhost:8080/"
        },
        "id": "SLuYSzwaVmqT",
        "outputId": "1b2a8d5a-fc0f-4817-9d4c-502143097238"
      },
      "execution_count": 4,
      "outputs": [
        {
          "output_type": "stream",
          "name": "stdout",
          "text": [
            "Hello XYZ, Good Morning!\n",
            "Hello XYZ, Welcome to Python!\n",
            "Hello XYZ, Good Morning!\n"
          ]
        }
      ]
    },
    {
      "cell_type": "markdown",
      "source": [
        "3.what are the Different ways to define and call a function in Python?\n",
        "ans- Functions are reusable blocks of code that perform a specific task. In Python, you can\n",
        "define and call functions in multiple ways:\n",
        "\n",
        "1.Standard function ( def )\n",
        "\n",
        "Defined using the def keyword.\n",
        "Can accept parameters and return values.\n",
        "\n",
        "2. Lambda function\n",
        "\n",
        "Also called an anonymous function.\n",
        "Defined using lambda keyword, usually for simple, single-line tasks.\n",
        "\n",
        "3. Nested function\n",
        "\n",
        "A function defined inside another function.\n",
        "Useful for encapsulation and keeping helper functions local to the outer function.\n",
        "\n",
        "Calling a function involves using its name followed by parentheses () .\n",
        "Arguments can be passed when calling functions to provide input values.\n"
      ],
      "metadata": {
        "id": "mBqz7-PAWKKa"
      }
    },
    {
      "cell_type": "code",
      "source": [
        "# 1. Standard function\n",
        "def greet(name):\n",
        "    return f\"Hello {name}!\"\n",
        "print(greet(\"abc\")) # standard function\n",
        "\n",
        "# 2. Lambda function\n",
        "square = lambda x: x**2\n",
        "print(square(5)) # lambda function\n",
        "\n",
        "# 3. Nested function\n",
        "def outer():\n",
        "    def inner():\n",
        "        return \"This is a nested function\"\n",
        "    return inner() #inner function inside outer\n",
        "print(outer())"
      ],
      "metadata": {
        "colab": {
          "base_uri": "https://localhost:8080/"
        },
        "id": "wfPHnSdGWvgB",
        "outputId": "20d4ea5b-a525-41e4-a521-eed48dc924b8"
      },
      "execution_count": null,
      "outputs": [
        {
          "output_type": "stream",
          "name": "stdout",
          "text": [
            "Hello abc!\n",
            "25\n",
            "This is a nested function\n"
          ]
        }
      ]
    },
    {
      "cell_type": "markdown",
      "source": [
        "4. What is the purpose of the `return` statement in a Python function?\n",
        "ans-\n",
        ".The return statement is used to send a result from a function back to the caller\n",
        ".Without return , a function returns None by default.\n",
        ".return allows functions to produce a value that can be stored, printed, or used in other\n",
        "operations.\n",
        ".It also helps in breaking out of a function immediately\n",
        "\n",
        "\n"
      ],
      "metadata": {
        "id": "C8CdWnKhXRDt"
      }
    },
    {
      "cell_type": "code",
      "source": [
        "#function using return\n",
        "def greet (name):\n",
        "  return f\"HELLO {name}\"\n",
        "\n",
        "print(greet(\"xyz\")) # Call the function and print its return value"
      ],
      "metadata": {
        "colab": {
          "base_uri": "https://localhost:8080/"
        },
        "id": "ff1PG70dda2n",
        "outputId": "f0514326-1a1a-434a-e796-16d01a9a37c7"
      },
      "execution_count": null,
      "outputs": [
        {
          "output_type": "stream",
          "name": "stdout",
          "text": [
            "HELLO xyz\n"
          ]
        }
      ]
    },
    {
      "cell_type": "code",
      "source": [
        "#using the return value\n",
        "message = greet(\"xyz\")\n",
        "print (message)"
      ],
      "metadata": {
        "colab": {
          "base_uri": "https://localhost:8080/"
        },
        "id": "dYWJZ0UreVk1",
        "outputId": "7db9c9e1-5fd0-4015-b3e9-b5a000cc0abc"
      },
      "execution_count": null,
      "outputs": [
        {
          "output_type": "stream",
          "name": "stdout",
          "text": [
            "HELLO xyz\n"
          ]
        }
      ]
    },
    {
      "cell_type": "markdown",
      "source": [
        "5. What are iterators in Python and how do they differ from iterables?\n",
        "ans-\n",
        "Iterable:\n",
        "Any Python object capable of returning its elements one by one, e.g., list ,\n",
        "tuple , string , set , or dictionary .\n",
        "You can loop over it using a for loop.\n",
        "\n",
        "Iterator:\n",
        "An object that produces elements one at a time and keeps track of its current\n",
        "position.\n",
        "Created from an iterable using the iter() function.\n",
        "Use next() to access elements individually"
      ],
      "metadata": {
        "id": "v4z_rr48fPdn"
      }
    },
    {
      "cell_type": "code",
      "source": [
        "#itrable example\n",
        "movies = [\"The Matrix\", \"The Matrix Reloaded\", \"The Matrix Revolutions\"]\n",
        "for movie in movies:\n",
        "    print(movie)"
      ],
      "metadata": {
        "colab": {
          "base_uri": "https://localhost:8080/"
        },
        "id": "sXZo6m9TflMI",
        "outputId": "3aaab31a-0c06-4545-bf48-c04cf2647fdc"
      },
      "execution_count": null,
      "outputs": [
        {
          "output_type": "stream",
          "name": "stdout",
          "text": [
            "The Matrix\n",
            "The Matrix Reloaded\n",
            "The Matrix Revolutions\n"
          ]
        }
      ]
    },
    {
      "cell_type": "code",
      "source": [
        "#iterator example\n",
        "movies_iterator = iter(movies)\n",
        "print(next(movies_iterator))\n",
        "print(next(movies_iterator))\n",
        "print(next(movies_iterator))"
      ],
      "metadata": {
        "colab": {
          "base_uri": "https://localhost:8080/"
        },
        "id": "N1sJSdUPf4zu",
        "outputId": "88f34447-59f6-44a0-bc58-109ea1e0c653"
      },
      "execution_count": null,
      "outputs": [
        {
          "output_type": "stream",
          "name": "stdout",
          "text": [
            "The Matrix\n",
            "The Matrix Reloaded\n",
            "The Matrix Revolutions\n"
          ]
        }
      ]
    },
    {
      "cell_type": "markdown",
      "source": [
        "6. Explain the concept of generators in Python and how they are defined?\n",
        "ans-\n",
        "Generators are special iterators that generate values on the fly instead of storing them in\n",
        "memory.\n",
        "They are memory-efficient and useful for large datasets or streams of data.\n",
        "Generators are defined in two main ways:\n",
        "\n",
        ". Using a function with the yield statement.\n",
        "\n",
        ". Using generator expressions (similar to list comprehensions but with parentheses).\n",
        "Each call to next() on a generator produces the next value until the generator is\n",
        "exhausted.\n"
      ],
      "metadata": {
        "id": "oWj1crW-gS1X"
      }
    },
    {
      "cell_type": "code",
      "source": [
        "#generator function\n",
        "def greet_generator():\n",
        "    yield \"Hello\"\n",
        "    yield \"World\"\n",
        "\n",
        "greet_gen = greet_generator()\n",
        "print(next(greet_gen))\n",
        "print(next(greet_gen))"
      ],
      "metadata": {
        "colab": {
          "base_uri": "https://localhost:8080/"
        },
        "id": "VHkL7UXtgqJn",
        "outputId": "edf38ac2-138f-4ae4-9ce6-b2f989fa4e5c"
      },
      "execution_count": null,
      "outputs": [
        {
          "output_type": "stream",
          "name": "stdout",
          "text": [
            "Hello\n",
            "World\n"
          ]
        }
      ]
    },
    {
      "cell_type": "markdown",
      "source": [
        "7. What are the advantages of using generators over regular functions?\n",
        "ans- Generators provide several advantages over regular functions that return lists:\n",
        "\n",
        ". Memory Efficiency\n",
        "Generators produce values one at a time and do not store the entire sequence in\n",
        "memory.\n",
        "\n",
        "Useful for large datasets.\n",
        "\n",
        ".Lazy Evaluation\n",
        "Values are computed only when needed using next() .\n",
        "Reduces unnecessary computations.\n",
        "\n",
        ". Represent Infinite Sequences\n",
        "Generators can model infinite series (like Fibonacci numbers) which is impossible\n",
        "with lists.\n",
        ". Pipeline Processing\n",
        "Generators can be chained together to create pipelines, processing data efficiently.\n"
      ],
      "metadata": {
        "id": "YUoArMZ3lQQ0"
      }
    },
    {
      "cell_type": "markdown",
      "source": [
        "8. What is a lambda function in Python and when is it\n",
        "typically used?\n",
        "ans-Explanation:\n",
        "Lambda functions are anonymous, one-line functions in Python that do not require a formal def block.\n",
        "\n",
        "They are defined using the lambda keyword, followed by arguments and a single\n",
        "expression.\n",
        "\n",
        "Lambda functions are commonly used when you need a small, temporary function\n",
        "without cluttering your code.\n",
        "\n",
        "Typical use cases include functional programming, inline operations, and passing\n",
        "functions as arguments to higher-order functions like map() , filter() , or sorted() .\n",
        "\n",
        "Advantages: concise, readable for small operations, and memory-efficient since they don’t\n",
        "require a full function definition.\n",
        "\n",
        "Characteristics & Usage:\n",
        "\n",
        "Concise —\n",
        " Perfect for small, one-off operations.\n",
        "\n",
        "Inline —\n",
        " Can be defined and used in a single line.\n",
        "\n",
        "Functional programming —\n",
        "Ideal for passing as arguments to functions like map() ,\n",
        "filter() , or reduce() .\n",
        "\n",
        "Single expression only —\n",
        "Cannot contain multiple statements or complex logic.\n",
        "Temporary & lightweight — Great for quick tasks without cluttering your code with full function defination.\n",
        "\n",
        "\n"
      ],
      "metadata": {
        "id": "56mfK40Honhh"
      }
    },
    {
      "cell_type": "code",
      "source": [
        "# Lambda to greet xyz\n",
        "greet = lambda name: f\"Hello {name}!\"\n",
        "print(greet(\"xyz\"))\n",
        "\n"
      ],
      "metadata": {
        "colab": {
          "base_uri": "https://localhost:8080/"
        },
        "id": "L5PrYi4ppZQg",
        "outputId": "51fdadd1-be34-4eca-e446-d9809672ca13"
      },
      "execution_count": null,
      "outputs": [
        {
          "output_type": "stream",
          "name": "stdout",
          "text": [
            "Hello xyz!\n"
          ]
        }
      ]
    },
    {
      "cell_type": "code",
      "source": [
        "#Lambda with map()\n",
        "numbers = [1, 2, 3, 4, 5]\n",
        "# Square each number using lambda\n",
        "squares = list(map(lambda x: x**2, numbers))\n",
        "print(squares) # Output: [1, 4, 9, 16, 25]"
      ],
      "metadata": {
        "colab": {
          "base_uri": "https://localhost:8080/"
        },
        "id": "qUqNzwlxp_e5",
        "outputId": "1d83c68e-252a-40f1-d562-fb62d25c9e3c"
      },
      "execution_count": null,
      "outputs": [
        {
          "output_type": "stream",
          "name": "stdout",
          "text": [
            "[1, 4, 9, 16, 25]\n"
          ]
        }
      ]
    },
    {
      "cell_type": "code",
      "source": [
        "#: Lambda with filter()\n",
        "# Filter numbers greater than 4\n",
        "filtered = list(filter(lambda x: x > 4, numbers))\n",
        "print(filtered) # Output: [3, 4, 5]"
      ],
      "metadata": {
        "colab": {
          "base_uri": "https://localhost:8080/"
        },
        "id": "tZc-bV-TqH-p",
        "outputId": "550cf6c8-79a4-4558-fb2f-36115a6c142b"
      },
      "execution_count": null,
      "outputs": [
        {
          "output_type": "stream",
          "name": "stdout",
          "text": [
            "[5]\n"
          ]
        }
      ]
    },
    {
      "cell_type": "code",
      "source": [
        "# Lambda with reduce()\n",
        "from functools import reduce # Import reduce\n",
        "\n",
        "# Sum all numbers using reduce and lambda\n",
        "numbers = [1, 2, 3, 4, 5, 6, 7] # Ensure numbers list is defined\n",
        "total = reduce(lambda x, y: x + y, numbers)\n",
        "print(total)"
      ],
      "metadata": {
        "colab": {
          "base_uri": "https://localhost:8080/"
        },
        "id": "f6K2xVIyqRgE",
        "outputId": "f7a20639-5360-4a6c-950e-538e9bb819c9"
      },
      "execution_count": null,
      "outputs": [
        {
          "output_type": "stream",
          "name": "stdout",
          "text": [
            "28\n"
          ]
        }
      ]
    },
    {
      "cell_type": "markdown",
      "source": [
        "9.Explain the purpose and usage of the `map()` function in Python.?\n",
        "ans-\n",
        "The map() function applies a given function to each item of an iterable (like a list, tuple,\n",
        "etc.) and returns a map object, which is an iterator.\n",
        "Useful when you want to perform the same operation on multiple items without using a\n",
        "loop.\n",
        "Common Uses of map() :\n",
        "\n",
        "Transforming all elements in a list/tuple without using a loop\n",
        "\n",
        "Applying mathematical operations to all elements.\n",
        "\n",
        "Preprocessing or cleaning data in bulk, e.g., converting strings to uppercase.\n",
        "\n",
        "Chaining with filter() or reduce() for functional programming pipelines.\n",
        "Syntax:\n",
        "map(function, iterable)\n"
      ],
      "metadata": {
        "id": "IU6tliJoqrko"
      }
    },
    {
      "cell_type": "code",
      "source": [
        "# map with a named function\n",
        "def greet(name):\n",
        "    return f\"Hello {name}!\"\n",
        "names = [\"Alice\", \"Bob\", \"Charlie\"]\n",
        "greeted_names = list(map(greet, names))\n",
        "print(greeted_names)\n",
        "#"
      ],
      "metadata": {
        "colab": {
          "base_uri": "https://localhost:8080/"
        },
        "id": "AHzDxOp0sfVB",
        "outputId": "f396282e-6f52-4180-9ef5-bf6e0f48afc4"
      },
      "execution_count": null,
      "outputs": [
        {
          "output_type": "stream",
          "name": "stdout",
          "text": [
            "['Hello Alice!', 'Hello Bob!', 'Hello Charlie!']\n"
          ]
        }
      ]
    },
    {
      "cell_type": "code",
      "source": [
        "# map with lambda function\n",
        "numbers = [1, 2, 3, 4, 5]\n",
        "squared = map(lambda x: x**2, numbers)\n",
        "print(list(squared))\n"
      ],
      "metadata": {
        "colab": {
          "base_uri": "https://localhost:8080/"
        },
        "id": "XJK-Vy3NuEop",
        "outputId": "ebb7b53e-2232-4354-e245-2311328df37d"
      },
      "execution_count": null,
      "outputs": [
        {
          "output_type": "stream",
          "name": "stdout",
          "text": [
            "[1, 4, 9, 16, 25]\n"
          ]
        }
      ]
    },
    {
      "cell_type": "markdown",
      "source": [
        "10. What is the difference between map(), reduce(),\n",
        "and filter() functions in Python?\n",
        "ans- map():\n",
        "\n",
        "Purpose:\n",
        "Applies a given function to each item of an iterable and returns a new iterable (a map object) with the results.\n",
        "\n",
        "Transformation: Used for transforming elements of an iterable.\n",
        "\n",
        "Output: The output iterable has the same number of items as the input iterable.\n",
        "\n",
        "Example: Squaring each number in a list.\n",
        "\n",
        "filter():\n",
        "\n",
        "Purpose: Constructs an iterator from elements of an iterable for which a function returns true.\n",
        "\n",
        "Selection: Used for selecting elements from an iterable based on a condition.\n",
        "\n",
        "Output: The output iterable will have fewer or the same number of items as the input iterable.\n",
        "\n",
        "Example: Filtering out even numbers from a list.\n",
        "reduce():\n",
        "\n",
        "Purpose: Applies a function of two arguments cumulatively to the items of an iterable, from left to right, to reduce the iterable to a single value.\n",
        "\n",
        "Aggregation: Used for aggregating or combining elements into a single result.\n",
        "\n",
        "Output: A single value.\n",
        "\n",
        "Requirement: You need to import reduce from the functools module.\n",
        "\n",
        "Example: Summing all numbers in a list.\n",
        "In essence:\n",
        "\n",
        "map() transforms.\n",
        "filter() selects.\n",
        "reduce() aggregates.\n",
        "They are often used together in functional programming paradigms to process data efficiently.\n",
        "\n"
      ],
      "metadata": {
        "id": "yvwGX5-GuSEc"
      }
    },
    {
      "cell_type": "code",
      "source": [
        "# map()\n",
        "numbers = [1, 2, 3, 4, 5]\n",
        "squared = map(lambda x: x**2, numbers)\n",
        "print(list(squared))"
      ],
      "metadata": {
        "colab": {
          "base_uri": "https://localhost:8080/"
        },
        "id": "lMlaZ_jrvJcH",
        "outputId": "f1352142-4de3-414e-f276-593b5f62f1d5"
      },
      "execution_count": null,
      "outputs": [
        {
          "output_type": "stream",
          "name": "stdout",
          "text": [
            "[1, 4, 9, 16, 25]\n"
          ]
        }
      ]
    },
    {
      "cell_type": "code",
      "source": [
        "# filter()\n",
        "numbers = [1, 2, 3, 4, 5]\n",
        "# keep number >3\n",
        "filtered = filter(lambda x: x > 3, numbers)\n",
        "print(list(filtered))"
      ],
      "metadata": {
        "colab": {
          "base_uri": "https://localhost:8080/"
        },
        "id": "B9LqzfMLvMjr",
        "outputId": "94a55ba5-d66d-4337-e4b7-76007aff80c1"
      },
      "execution_count": null,
      "outputs": [
        {
          "output_type": "stream",
          "name": "stdout",
          "text": [
            "[4, 5]\n"
          ]
        }
      ]
    },
    {
      "cell_type": "code",
      "source": [
        "#reduce()\n",
        "from functools import reduce\n",
        "numbers = [1, 2, 3, 4, 5, 6, 7, 8, 9]\n",
        "# Sum all numbers cumulatively\n",
        "total = reduce(lambda x, y: x + y, numbers)\n",
        "print(total)"
      ],
      "metadata": {
        "colab": {
          "base_uri": "https://localhost:8080/"
        },
        "id": "XRFRQIJZvhhP",
        "outputId": "8585bf4e-2b8a-40bf-8798-f214c145337d"
      },
      "execution_count": null,
      "outputs": [
        {
          "output_type": "stream",
          "name": "stdout",
          "text": [
            "45\n"
          ]
        }
      ]
    },
    {
      "cell_type": "code",
      "source": [
        "#practical questions\n",
        "\n",
        "#1. Write a Python function that takes a list of numbers\n",
        "def sum_of_evens(nums):\n",
        "    return sum(n for n in nums if n % 2 == 0) # Added indentation\n",
        "print(sum_of_evens([1, 2, 3, 4, 5, 6, 7, 8]))"
      ],
      "metadata": {
        "colab": {
          "base_uri": "https://localhost:8080/"
        },
        "id": "yT5_E9FixXLy",
        "outputId": "cdcafa98-4ebc-49bb-ac48-cbdb906144b3"
      },
      "execution_count": null,
      "outputs": [
        {
          "output_type": "stream",
          "name": "stdout",
          "text": [
            "20\n"
          ]
        }
      ]
    },
    {
      "cell_type": "code",
      "source": [
        "#2. Create a Python function that accepts a string and returns the reverse of that strings\n",
        "def reverse_string(s):\n",
        "    return s[::-1]\n",
        "print(reverse_string(\"pookie\"))"
      ],
      "metadata": {
        "colab": {
          "base_uri": "https://localhost:8080/"
        },
        "id": "qkZa5iIMxpmd",
        "outputId": "4082bc7b-daf6-493c-9ea1-24ca781af251"
      },
      "execution_count": null,
      "outputs": [
        {
          "output_type": "stream",
          "name": "stdout",
          "text": [
            "eikoop\n"
          ]
        }
      ]
    },
    {
      "cell_type": "code",
      "source": [
        "#3 Implement a Python function that takes a list of integers and returns a new list containing the squares of each number\n",
        "\n",
        "def square_list(numbers):\n",
        "    return [num ** 2 for num in numbers]\n",
        "print(square_list([1, 2, 3, 4, 5]))"
      ],
      "metadata": {
        "colab": {
          "base_uri": "https://localhost:8080/"
        },
        "id": "mbLXaHTpyC2I",
        "outputId": "5ef0060c-02ac-4efb-98db-c1a059d3123d"
      },
      "execution_count": null,
      "outputs": [
        {
          "output_type": "stream",
          "name": "stdout",
          "text": [
            "[1, 4, 9, 16, 25]\n"
          ]
        }
      ]
    },
    {
      "cell_type": "code",
      "source": [
        "#4. Write a Python function that checks if a given number is prime or not, and\n",
        "#   a function to find prime numbers from 1 to 200\n",
        "\n",
        "def is_prime(num):\n",
        "    if num < 2:\n",
        "        return False\n",
        "    for i in range(2, num):\n",
        "        if num % i == 0:\n",
        "            return False\n",
        "    return True\n",
        "\n",
        "def prime_numbers_upto_200():\n",
        "    primes = []\n",
        "    for n in range(1, 201):\n",
        "        if is_prime(n):\n",
        "            primes.append(n)\n",
        "    return primes\n",
        "\n",
        "print(prime_numbers_upto_200())"
      ],
      "metadata": {
        "colab": {
          "base_uri": "https://localhost:8080/"
        },
        "id": "1-J-maVAymeY",
        "outputId": "422fed88-d72c-49d4-e786-305695158c47"
      },
      "execution_count": null,
      "outputs": [
        {
          "output_type": "stream",
          "name": "stdout",
          "text": [
            "[2, 3, 5, 7, 11, 13, 17, 19, 23, 29, 31, 37, 41, 43, 47, 53, 59, 61, 67, 71, 73, 79, 83, 89, 97, 101, 103, 107, 109, 113, 127, 131, 137, 139, 149, 151, 157, 163, 167, 173, 179, 181, 191, 193, 197, 199]\n"
          ]
        }
      ]
    },
    {
      "cell_type": "code",
      "source": [
        "#5 Create an iterator class in Python that generates the Fibonacci sequence up to a specified number of terms.\n",
        "class FibonacciIterator:\n",
        "    def __init__(self, limit):\n",
        "        self.limit = limit\n",
        "        self.a = 0\n",
        "        self.b = 1\n",
        "        self.count = 0\n",
        "\n",
        "    def __iter__(self):\n",
        "        return self\n",
        "\n",
        "    def __next__(self):\n",
        "        if self.count >= self.limit:\n",
        "            raise StopIteration\n",
        "        else:\n",
        "            result = self.a\n",
        "            self.a, self.b = self.b, self.a + self.b\n",
        "            self.count += 1\n",
        "            return result\n",
        "\n",
        "# Example usage:\n",
        "fib_iterator = FibonacciIterator(10)\n",
        "for number in fib_iterator:\n",
        "    print(number)"
      ],
      "metadata": {
        "colab": {
          "base_uri": "https://localhost:8080/"
        },
        "id": "1hlQSNwmy5tL",
        "outputId": "4c715874-11c6-45fe-98a4-086434aa2cec"
      },
      "execution_count": null,
      "outputs": [
        {
          "output_type": "stream",
          "name": "stdout",
          "text": [
            "0\n",
            "1\n",
            "1\n",
            "2\n",
            "3\n",
            "5\n",
            "8\n",
            "13\n",
            "21\n",
            "34\n"
          ]
        }
      ]
    },
    {
      "cell_type": "code",
      "source": [
        "#6 Write a generator function in Python that yields the\n",
        "#powers of 2 up to a given exponent.\n",
        "\n",
        "def powers_of_two(n):\n",
        "    for i in range(n + 1):\n",
        "        yield 2 ** i\n",
        "for num in powers_of_two(5):\n",
        "    print(num, end=\" \")"
      ],
      "metadata": {
        "colab": {
          "base_uri": "https://localhost:8080/"
        },
        "id": "U70viU81zK4o",
        "outputId": "347408fa-6525-416a-fff7-83a62b8eed22"
      },
      "execution_count": null,
      "outputs": [
        {
          "output_type": "stream",
          "name": "stdout",
          "text": [
            "1 2 4 8 16 32 "
          ]
        }
      ]
    },
    {
      "cell_type": "code",
      "source": [
        "#7. Implement a generator function that reads a file line by line and yields each line as a string.\n",
        "with open(\"sample.txt\", \"w\") as f:\n",
        "    f.write(\"Hello\\n\")\n",
        "    f.write(\"This is anonymous\\n\")\n",
        "    f.write(\"doing assignment\\n\")\n",
        "\n",
        "def read_file_line_by_line(filename):\n",
        "    with open(filename, \"r\") as file: # Changed mode to \"r\" for reading\n",
        "        for line in file:\n",
        "            yield line.strip()\n",
        "\n",
        "for line in read_file_line_by_line(\"sample.txt\"):\n",
        "    print(line)"
      ],
      "metadata": {
        "colab": {
          "base_uri": "https://localhost:8080/"
        },
        "collapsed": true,
        "id": "dZ1tdGBV0V1c",
        "outputId": "5e8bd39f-61a8-4a79-ec80-2ee9cfd4ede0"
      },
      "execution_count": null,
      "outputs": [
        {
          "output_type": "stream",
          "name": "stdout",
          "text": [
            "Hello\n",
            "This is anonymous\n",
            "doing assignment\n"
          ]
        }
      ]
    },
    {
      "cell_type": "code",
      "source": [
        "#8 Use a lambda function in Python to sort a list of tuples based on the second element of each tuple\n",
        "list_of_tuples = [(1, 'banana'), (3, 'apple'), (2, 'cherry')]\n",
        "\n",
        "# Sort the list of tuples based on the second element (index 1) using a lambda function\n",
        "sorted_list = sorted(list_of_tuples, key=lambda item: item[1])\n",
        "\n",
        "print(sorted_list)"
      ],
      "metadata": {
        "colab": {
          "base_uri": "https://localhost:8080/"
        },
        "id": "W3X4N-HE1c1l",
        "outputId": "641d2eb1-ef97-4f1e-c160-325dbc4aac62"
      },
      "execution_count": null,
      "outputs": [
        {
          "output_type": "stream",
          "name": "stdout",
          "text": [
            "[(3, 'apple'), (1, 'banana'), (2, 'cherry')]\n"
          ]
        }
      ]
    },
    {
      "cell_type": "code",
      "source": [
        "#9 Write a Python program that uses map() to convert a list of temperatures from Celsius to Fahrenheit\n",
        "celsius_temperatures = [0, 10, 20, 30, 40]\n",
        "\n",
        "# Use map() with a lambda function to convert Celsius to Fahrenheit\n",
        "fahrenheit_temperatures = list(map(lambda c: (c * 9/5) + 32, celsius_temperatures))\n",
        "\n",
        "print(fahrenheit_temperheit_temperatures)"
      ],
      "metadata": {
        "colab": {
          "base_uri": "https://localhost:8080/"
        },
        "id": "3lzoOAHK15ie",
        "outputId": "7b7940c1-2d9c-49de-aa1a-015d44b29b38"
      },
      "execution_count": null,
      "outputs": [
        {
          "output_type": "stream",
          "name": "stdout",
          "text": [
            "[32.0, 50.0, 68.0, 86.0, 104.0]\n"
          ]
        }
      ]
    },
    {
      "cell_type": "code",
      "source": [
        "#10 Create a Python program that uses filter() to remove all the vowels from a given string\n",
        "\n",
        "# Define the input string\n",
        "input_string = \"Hello World\"\n",
        "\n",
        "# Define a set of vowels for easy lookup\n",
        "vowels = \"aeiouAEIOU\"\n",
        "\n",
        "# Use filter() with a lambda function to keep only non-vowel characters\n",
        "# The lambda function checks if a character is NOT in the vowels set\n",
        "filtered_characters = filter(lambda char: char not in vowels, input_string)\n",
        "\n",
        "# Join the filtered characters back into a string\n",
        "result_string = \"\".join(filtered_characters)\n",
        "\n",
        "# Print the result\n",
        "print(result_string)"
      ],
      "metadata": {
        "colab": {
          "base_uri": "https://localhost:8080/"
        },
        "id": "zm6Z84Ld3HD7",
        "outputId": "da0d3298-7a89-4394-f83b-f095d1ed1dc0"
      },
      "execution_count": null,
      "outputs": [
        {
          "output_type": "stream",
          "name": "stdout",
          "text": [
            "Hll Wrld\n"
          ]
        }
      ]
    }
  ]
}