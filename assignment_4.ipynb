{
  "nbformat": 4,
  "nbformat_minor": 0,
  "metadata": {
    "colab": {
      "provenance": []
    },
    "kernelspec": {
      "name": "python3",
      "display_name": "Python 3"
    },
    "language_info": {
      "name": "python"
    }
  },
  "cells": [
    {
      "cell_type": "markdown",
      "source": [
        "1> What is Object-Oriented Programming (OOP)+?\n",
        " **Defination**=>\n",
        " Object-Oriented Programming (OOP) is a programming paradigm based on the concept of **“objects”**, which can contain data (attributes) and **code** (methods).\n",
        "It focuses on organizing software into reusable, modular pieces instead of writing code in a linear (procedural) way.\n",
        "\n",
        "\n",
        "**key concepts of oops**\n",
        "\n",
        "1.**Class→** Blueprint/template for creating objects.\n",
        "\n",
        "2.**Object→** Instance of a class (real-world entity).\n",
        "\n",
        "3.**Encapsulation →** Binding data and methods together in a single unit.\n",
        "\n",
        "4.**Abstraction→** Hiding unnecessary details and showing only the essential features.\n",
        "\n",
        "5.**Inheritance →** One class can acquire properties and methods of another class.\n",
        "\n",
        "6.**Polymorphism →** Ability to use the same interface with different forms (method overriding & overloading)\n",
        "\n"
      ],
      "metadata": {
        "id": "SaOLTjPtXlEo"
      }
    },
    {
      "cell_type": "code",
      "source": [
        "# Class Blueprint\n",
        "class Person:\n",
        "    def __init__(self, name, age):\n",
        "        self.name = name\n",
        "        self.age = age\n",
        "\n",
        "    def display_info(self):\n",
        "        return f\"Person: {self.name}, {self.age}\"\n",
        "\n",
        "\n",
        "# Object (Instance of Class)\n",
        "person1 = Person(\"Alice\", 30)\n",
        "person2 = Person(\"Bob\", 25)\n",
        "\n",
        "print(person1.display_info())\n",
        "print(person2.display_info())\n",
        "\n"
      ],
      "metadata": {
        "colab": {
          "base_uri": "https://localhost:8080/"
        },
        "id": "EA81X1rkcgHH",
        "outputId": "17b63ef3-b58c-411d-a00a-650b78fc998a"
      },
      "execution_count": null,
      "outputs": [
        {
          "output_type": "stream",
          "name": "stdout",
          "text": [
            "Person: Alice, 30\n",
            "Person: Bob, 25\n"
          ]
        }
      ]
    },
    {
      "cell_type": "markdown",
      "source": [
        "2> What is a Class in OOP?\n",
        "ans>\n",
        "\n",
        " A class in oop is a **blueprint or templates** that defines how to create objects.\n",
        " it describes the **attributes(data/properties)** and **methods(functions/behavior** that the objects of that class will have.\n",
        "\n",
        "\n",
        "Key Points about Classes:\n",
        "\n",
        "1=> **Blueprint concept**\n",
        "\n",
        ". Think of a class as a design/plan.\n",
        "\n",
        "Example: An architect draws a blueprint of a house → but the actual house is built later\n",
        "\n",
        "\n",
        "2=> **Objects are instences**\n",
        "\n",
        " .Objects are real, usable things created from the class.\n",
        "\n",
        "  Example: If Name is a class (blueprint), then Alice or Bob are actual objects..\n",
        "\n",
        "3=> **Encapsulation of data+behavior**\n",
        "\n",
        "Classes combine attributes (variables) and methods (functions) into one unit.\n",
        "\n",
        "\n",
        "Example: A person has attributes like name , age and methods like start(), brake() .\n",
        "\n",
        "4=> **Reuseability**\n",
        "\n",
        "Once a class is defined, you can **create multiple objects** without rewriting code.\n"
      ],
      "metadata": {
        "id": "6bST0F6RenJv"
      }
    },
    {
      "cell_type": "code",
      "source": [
        "#example\n",
        "class Person:\n",
        "  def __init__(self, name, age, country):\n",
        "    self.name = name\n",
        "    self.age = age\n",
        "    self.country = country\n",
        "\n",
        "  # Method (function inside class)\n",
        "  def display_info(self):\n",
        "    return f\"Person: {self.name}, {self.age}, {self.country}\"\n",
        "\n",
        "#object creation\n",
        "person1 = Person(\"Alice\", 30, \"USA\")\n",
        "person2 = Person(\"Bob\", 25, \"Canada\")\n",
        "person3 = Person(\"Anya\", 10, \"Switzerland\") # Corrected string literal\n",
        "person4 = Person(\"kuchbhi\", 2, \"India\")\n",
        "print(person1.display_info())\n",
        "print(person2.display_info())\n",
        "print(person3.display_info())\n",
        "print(person4.display_info())"
      ],
      "metadata": {
        "colab": {
          "base_uri": "https://localhost:8080/"
        },
        "id": "gOhY1SKBlVlC",
        "outputId": "02d6ce2e-37a8-440f-d693-10fe0d1127d7"
      },
      "execution_count": null,
      "outputs": [
        {
          "output_type": "stream",
          "name": "stdout",
          "text": [
            "Person: Alice, 30, USA\n",
            "Person: Bob, 25, Canada\n",
            "Person: Anya, 10, Switzerland\n",
            "Person: kuchbhi, 2, India\n"
          ]
        }
      ]
    },
    {
      "cell_type": "markdown",
      "source": [
        "3> What is an Object in OOP?\n",
        "ans>\n",
        "\n",
        "An object in Object-Oriented Programming (OOP) is a real-world entity or an instance of a class.\n",
        "It represents something that has state (data/attributes) and behavior (methods/functions)."
      ],
      "metadata": {
        "id": "zraCtqcOoHu6"
      }
    },
    {
      "cell_type": "code",
      "source": [
        "#class defination\n",
        "class Person:\n",
        "  def __init__(self, name, age, country):\n",
        "    self.name = name\n",
        "    self.age = age\n",
        "    self.country = country\n",
        "\n",
        "#creating objects\n",
        "person1 = Person(\"Alice\", 30, \"USA\")\n",
        "person2 = Person(\"Bob\", 25, \"Canada\")\n",
        "person3 = Person(\"Anya\", 10, \"Switzerland\") # Corrected string literal\n",
        "person4 = Person(\"kuchbhi\", 2, \"India\")\n",
        "\n",
        "#accessing attributes and methods\n",
        "print(person1.name)\n",
        "print(person2.age,person2.country)\n",
        "print(person3.name, \"is sleeping\")"
      ],
      "metadata": {
        "colab": {
          "base_uri": "https://localhost:8080/"
        },
        "id": "YreEXl0ioXAf",
        "outputId": "f3aa26fc-f3f3-445b-b246-97f8c818ac1d"
      },
      "execution_count": null,
      "outputs": [
        {
          "output_type": "stream",
          "name": "stdout",
          "text": [
            "Alice\n",
            "25 Canada\n",
            "Anya is sleeping\n"
          ]
        }
      ]
    },
    {
      "cell_type": "markdown",
      "source": [
        "4>  What is the Difference between Abstraction and Encapsulation?\n",
        "ans>\n",
        "\n",
        " Both **abstraction** and **encapsulation** are the key concept of object- oriented-programming they sound similar but serve different purpose\n",
        "\n",
        "\n",
        " Abstraction-\n",
        "    Abstraction is the process of hiding implementation details and showing only the essential features of an object.\n",
        "    Focus: What an object does (not how it does it).\n",
        "\n",
        " Achieved by-\n",
        "\n",
        "  .Using classes\n",
        "\n",
        "  .Access modifiers ( _protected , __private ) in Python    \n",
        "\n",
        "  Example-\n",
        "\n",
        "  .A capsule medicine wraps several ingredients inside one capsule shell.\n",
        "\n",
        "  .You don’t see or touch the ingredients directly.\n",
        "\n",
        "\n",
        "\n",
        "\n",
        "\n",
        "\n",
        "--------------------------------------------------------------------------------\n",
        "Tabular Difference:\n",
        "\n",
        "\n",
        "\n",
        "Abstraction: Hides implementation details, shows only essential features\n",
        "\n",
        "             it focus on what an object does\n",
        "\n",
        "             we can achieve it by Abstract classes, Interfaces.\n",
        "\n",
        "             example- Car Driver only sees pedals & steering (not engine details).\n",
        "   \n",
        "\n",
        "\n",
        "\n",
        "\n",
        "---\n",
        "\n",
        "Encapsulation: it Bundles data and methods together, hides data from direct    access.\n",
        "\n",
        "            it focus on How the data is hidden/protected.\n",
        "\n",
        "            can achieved by using Classes, Access Modifiers.\n",
        "\n",
        "            example- Capsule wraps medicine insides\n",
        "\n"
      ],
      "metadata": {
        "id": "z3ZEM0iYqNpb"
      }
    },
    {
      "cell_type": "markdown",
      "source": [
        "5>  What are Dunder Methods in Python?\n",
        "\n",
        "\n",
        "---\n",
        "**defination:**\n",
        "\n",
        "\n",
        "---\n",
        "\n",
        "\n",
        "\n",
        "-> Dunder methods (short for “Double UNDERSCORE”) are special methods in Python.\n",
        "\n",
        "->They always start and end with double underscores like __init__ , __str__ , __len__ .\n",
        "\n",
        "->Also called magic methods because they add extra functionality to classes     and  objects.\n",
        "\n",
        "---\n",
        "**Purpose of Dunder Methods:**\n",
        "\n",
        "---\n",
        "\n",
        "\n",
        "->To make classes behave like built-in types.\n",
        "\n",
        "->To customize operators (like + , - , < , etc.) for user-defined classes.\n",
        "\n",
        "->To define object creation, representation, comparison, arithmetic, etc.\n",
        "\n",
        "\n",
        "\n",
        "\n",
        "\n",
        "---\n",
        "\n",
        "\n",
        "\n",
        "**Commonly Used Dunder Methods**:\n",
        "\n",
        "    Dunder Method                              Purpose\n",
        "\n",
        "---\n",
        "\n",
        "    __init__ Constructor               Initializes an object.\n",
        "\n",
        "\n",
        "\n",
        "    __str__                            Returns a string representation of the object (used with print() ).\n",
        "\n",
        "\n",
        "\n",
        "    __repr__                           Official representation of the object (useful for debugging).                 \n",
        "\n",
        "\n",
        "\n",
        "    __len__                            Defines behavior for len(obj) .\n",
        "\n",
        "\n",
        "\n",
        "    __add__                            Defines behavior for + operator.\n",
        "\n",
        "\n",
        "\n",
        "    __eq__                             Defines behavior for == operator.\n",
        "\n",
        "\n",
        "\n",
        "    __getitem__                        Defines behavior for indexing obj[i] .\n",
        "\n",
        "\n",
        "\n",
        "    __call__                         Makes an object callable like a function.\n"
      ],
      "metadata": {
        "id": "jPpOglrkjkLE"
      }
    },
    {
      "cell_type": "code",
      "source": [
        "#Example\n",
        "\n",
        "class Serise:\n",
        "  def __init__(self, title, season):\n",
        "    self.title = title\n",
        "    self.season = season\n",
        "\n",
        "  def __str__(self):\n",
        "    return f\"Serise: {self.title}, season: {self.season}\"\n",
        "\n",
        "  def __len__(self):\n",
        "    return self.season\n",
        "\n",
        "  def __add__(self, other): # For +\n",
        "    return self.season + other.season\n",
        "\n",
        "#Creating objects\n",
        "\n",
        "serise1 = Serise(\"kingdom\", 2)\n",
        "seirse2 = Serise(\"last of us\", 3)\n",
        "print(serise1)\n",
        "print(seirse2)\n",
        "print(serise1 + seirse2)"
      ],
      "metadata": {
        "colab": {
          "base_uri": "https://localhost:8080/"
        },
        "id": "ik14EClHmoZV",
        "outputId": "a4057e6b-a6b2-4440-b7ed-9d72b3b32178"
      },
      "execution_count": null,
      "outputs": [
        {
          "output_type": "stream",
          "name": "stdout",
          "text": [
            "Serise: kingdom, season: 2\n",
            "Serise: last of us, season: 3\n",
            "5\n"
          ]
        }
      ]
    },
    {
      "cell_type": "markdown",
      "source": [
        "6>Explain the Concept of Inheritance in OOP?\n",
        "\n",
        "ans>\n",
        "\n",
        "Inheritance is an Object-Oriented Programming (OOP) concept where a class (child/derived class) can reuse the properties and\n",
        "methods of another class (parent/base class).\n",
        "\n",
        "\n",
        "It allows code reusability and represents an “is-a” relationship between classes.\n",
        "\n",
        "---\n",
        "\n",
        "**keypoints**\n",
        "\n",
        "\n",
        "1. The child class inherits data members (variables) and methods (functions) from the parent class.\n",
        "\n",
        "2. The child class can:\n",
        "   Use parent class features as they are.\n",
        "\n",
        "   Override parent methods to change behavior.\n",
        "\n",
        "   Add new methods or attributes of its own.\n",
        "\n",
        "\n",
        " 3. Helps in writing clean, reusable, and maintainable code.\n",
        "\n",
        "\n",
        "\n",
        "\n",
        "---\n",
        "\n",
        "**Types of Inheritance in Python:**\n",
        "\n",
        "1. **Single Inheritance** → One child inherits from one parent.\n",
        "\n",
        "2. **Multiple Inheritance** → A child inherits from more than one parent.\n",
        "\n",
        "3. **Multilevel Inheritance** → A child inherits from a parent, which in turn inherits from another class.\n",
        "\n",
        "4. **Hierarchical Inheritance** → Multiple child classes inherit from the same parent.\n",
        "\n",
        "5. **Hybrid Inheritance** → Combination of multiple inheritance types.\n",
        "\n",
        "---\n",
        "Example:\n"
      ],
      "metadata": {
        "id": "52e7RFnypk4o"
      }
    },
    {
      "cell_type": "code",
      "source": [
        "#parent class\n",
        "class Animal:\n",
        "   def speak(self):\n",
        "    return \"this animal makes sound\"\n",
        "\n"
      ],
      "metadata": {
        "id": "BsPgGZZVsl6I"
      },
      "execution_count": null,
      "outputs": []
    },
    {
      "cell_type": "code",
      "metadata": {
        "colab": {
          "base_uri": "https://localhost:8080/"
        },
        "id": "fda63b68",
        "outputId": "bf861c61-97a9-4120-852d-8544a6e7fe6a"
      },
      "source": [
        "# Child class inheriting from Animal\n",
        "class Dog(Animal):\n",
        "  def speak(self):\n",
        "    return \"Woof!\"\n",
        "\n",
        "# Create an instance of Dog\n",
        "my_dog = Dog()\n",
        "\n",
        "# Call the speak method\n",
        "print(my_dog.speak())"
      ],
      "execution_count": null,
      "outputs": [
        {
          "output_type": "stream",
          "name": "stdout",
          "text": [
            "Woof!\n"
          ]
        }
      ]
    },
    {
      "cell_type": "code",
      "source": [
        "#another child class\n",
        "class Cat(Animal):\n",
        "  def speak(self):\n",
        "    return \"Meow!\"\n",
        "\n",
        "# Create an instance of Cat\n",
        "my_cat = Cat()\n",
        "\n",
        "# Call the speak method\n",
        "print(my_cat.speak())"
      ],
      "metadata": {
        "colab": {
          "base_uri": "https://localhost:8080/"
        },
        "id": "9JfAwPuItsNN",
        "outputId": "2d733dd1-b544-4796-eb98-7914023631ba"
      },
      "execution_count": null,
      "outputs": [
        {
          "output_type": "stream",
          "name": "stdout",
          "text": [
            "Meow!\n"
          ]
        }
      ]
    },
    {
      "cell_type": "code",
      "source": [
        "# Using the classes\n",
        "dog=Dog()\n",
        "cat=Cat()\n",
        "print(dog.speak())\n",
        "print(cat.speak())"
      ],
      "metadata": {
        "colab": {
          "base_uri": "https://localhost:8080/"
        },
        "id": "kWTic8xwt0xF",
        "outputId": "5ba9a7e6-add9-4302-b022-69bebe2ae05b"
      },
      "execution_count": null,
      "outputs": [
        {
          "output_type": "stream",
          "name": "stdout",
          "text": [
            "Woof!\n",
            "Meow!\n"
          ]
        }
      ]
    },
    {
      "cell_type": "markdown",
      "source": [
        "7>What is Polymorphism in OOP?\n",
        "\n",
        "ans>\n",
        "\n",
        ". The word Polymorphism comes from Greek:\n",
        "  Poly = many\n",
        "  Morph = forms\n",
        "\n",
        ".In OOP, Polymorphism means the ability of different classes to respond to the same method name in different ways.\n",
        "\n",
        ".It allows a single function, operator, or method to have multiple\n",
        "implementations.\n",
        "\n",
        "\n",
        "---\n",
        "**Types of Polymorphism in Python:**\n",
        "\n",
        "1. Compile-time Polymorphism (Overloading)\n",
        "\n",
        "   .Having multiple methods with the same name but different arguments.\n",
        "\n",
        "   **Note**: Python doesn’t support traditional overloading, but we can achieve similar behavior using default arguments or *args .\n",
        "\n",
        "\n",
        "\n",
        "2. Run-time Polymorphism (Overriding)\n",
        "When a child class provides its own implementation of a method already defined in the parent class.\n",
        "\n",
        "Example 1: Method Overriding (Run-time Polymorphism)\n",
        "\n"
      ],
      "metadata": {
        "id": "GIIHRJjNuOJR"
      }
    },
    {
      "cell_type": "code",
      "source": [
        "class Animal:\n",
        "  def speak(self):\n",
        "    return \"this animal makes sound\"\n",
        "\n",
        "class Dog(Animal):\n",
        "  def speak(self):\n",
        "    return \"Woof!\"\n",
        "\n",
        "class Cat(Animal):\n",
        "  def speak(self):\n",
        "    return \"Meow!\"\n",
        "\n",
        "    # Same method name ; different outputs\n",
        "dog=Dog()\n",
        "cat=Cat()\n",
        "print(dog.speak())\n",
        "print(cat.speak())"
      ],
      "metadata": {
        "colab": {
          "base_uri": "https://localhost:8080/"
        },
        "id": "2MKRfCITwAKW",
        "outputId": "0712c893-f8db-4d23-c34f-32a0f80b0c82"
      },
      "execution_count": null,
      "outputs": [
        {
          "output_type": "stream",
          "name": "stdout",
          "text": [
            "Woof!\n",
            "Meow!\n"
          ]
        }
      ]
    },
    {
      "cell_type": "markdown",
      "source": [
        "8> How is Encapsulation achieved in Python?\n",
        "\n",
        "ans>\n",
        "\n",
        "**Encapsulation** = wrapping up data (variables) and methods (functions) into a single unit (class).\n",
        "\n",
        "It also helps in restricting direct access to data by using access modifiers.\n",
        "\n",
        "\n",
        "---\n",
        "**Ways to Achieve Encapsulation in Python:**\n",
        "1. Using Classes\n",
        "\n",
        "\n",
        "Class binds data (attributes) and methods together.\n",
        "\n",
        "Example: A Car class containing both speed and drive() .\n",
        "\n",
        "2. Access Modifiers in Python\n",
        "\n",
        "Python does not have strict private/protected keywords like Java or C++,\n",
        "\n",
        "but it achieves encapsulation through naming conventions:\n"
      ],
      "metadata": {
        "id": "D1g9dp6mwvMm"
      }
    },
    {
      "cell_type": "markdown",
      "source": [
        "9>What is a Constructor in Python?\n",
        "ans>\n",
        "\n",
        "-> A constructor in Python is a special method that is automatically called when an object of a class is created.\n",
        "\n",
        "-> Its main job is to initialize the attributes (data members) of the object.\n",
        "\n",
        "\n",
        "\n",
        "---\n",
        "\n",
        "in python\n",
        "The constructor method is always written as:\n"
      ],
      "metadata": {
        "id": "PlkHMdjkxpmZ"
      }
    },
    {
      "cell_type": "code",
      "source": [
        "def __init__(self, arguments):\n",
        "  # initialization code\n",
        "  pass # Added a placeholder pass statement\n",
        "\n",
        "# Example 1: Simple Constructor\n",
        "class Student:\n",
        "  def __init__(self, name, age): # constructor\n",
        "    self.name = name\n",
        "    self.age = age\n",
        "\n",
        "# Creating objects\n",
        "s1 = Student(\"xyz\", 21)\n",
        "s2 = Student(\"abc\", 23)\n",
        "print(s1.name, s1.age) # Corrected the print statement to access attributes\n",
        "print(s2.name, s2.age)"
      ],
      "metadata": {
        "colab": {
          "base_uri": "https://localhost:8080/"
        },
        "id": "WkWqexSOyYNi",
        "outputId": "42dc514f-1a50-489e-c52d-1aa84f34c2f7"
      },
      "execution_count": null,
      "outputs": [
        {
          "output_type": "stream",
          "name": "stdout",
          "text": [
            "xyz 21\n",
            "abc 23\n"
          ]
        }
      ]
    },
    {
      "cell_type": "markdown",
      "source": [
        "10> What are Class and Static Methods in Python?\n",
        "\n",
        "ans>\n",
        "1. **Class Methods**:\n",
        "A class method is a method that is bound to the class itself, not the object.\n",
        "\n",
        " ->  It can access and modify class-level attributes (shared across all objects).\n",
        "\n",
        " ->  Defined using the @classmethod decorator.\n",
        "     \n",
        " ->  The first parameter is always cls (refers to the class)."
      ],
      "metadata": {
        "id": "twUHKpa4yywv"
      }
    },
    {
      "cell_type": "code",
      "source": [
        "class Student:\n",
        "    school = \"sky high international school\"\n",
        "\n",
        "    def __init__(self, name, age):\n",
        "        self.name = name\n",
        "        self.age = age\n",
        "\n",
        "    # class method\n",
        "    @classmethod\n",
        "    def change_school(cls, new_school):\n",
        "        cls.school = new_school\n",
        "\n",
        "# Example usage (add this outside the class definition)\n",
        "Student.change_school(\"Earth Public School\")\n",
        "print(\"student joined\", Student.school)"
      ],
      "metadata": {
        "colab": {
          "base_uri": "https://localhost:8080/"
        },
        "id": "pHbeJONr8Mv4",
        "outputId": "5d544066-f6b9-4240-f3dc-d0c123dc5c74"
      },
      "execution_count": null,
      "outputs": [
        {
          "output_type": "stream",
          "name": "stdout",
          "text": [
            "student joined Earth Public School\n"
          ]
        }
      ]
    },
    {
      "cell_type": "markdown",
      "source": [
        "**Static methods**:\n",
        "\n",
        "-> A static method does not depend on the class (cls) or instance (self) .\n",
        "\n",
        "-> Used when we want a utility/helper function inside a class.\n",
        "\n",
        "-> Defined using the @staticmethod decorator.\n",
        "\n",
        "\n",
        "example:\n"
      ],
      "metadata": {
        "id": "pGahvyaJ9Prc"
      }
    },
    {
      "cell_type": "code",
      "source": [
        "class MathOperations:\n",
        "    @staticmethod\n",
        "    def add(x, y):\n",
        "        return x + y\n",
        "\n",
        "    @staticmethod\n",
        "    def multiply(x, y):\n",
        "        return x * y\n",
        "\n",
        "# Using static methods\n",
        "print(MathOperations.add(5, 10))\n",
        "print(MathOperations.multiply(3, 4))"
      ],
      "metadata": {
        "colab": {
          "base_uri": "https://localhost:8080/"
        },
        "id": "oVc1ROD59mcC",
        "outputId": "34b0b67a-c822-45eb-a81d-4befcd3a5634"
      },
      "execution_count": null,
      "outputs": [
        {
          "output_type": "stream",
          "name": "stdout",
          "text": [
            "15\n",
            "12\n"
          ]
        }
      ]
    },
    {
      "cell_type": "markdown",
      "source": [
        "**Real-Life Analogy**\n",
        "\n",
        "**Class Method:**\n",
        "\n",
        "\n",
        "Like a school notice board — ek baar badal diya, to poore school (sab students) ke liye effect hoga.\n",
        "\n",
        "**Static Method:**\n",
        "\n",
        "\n",
        " Like a calculator kept in the school — jo sab use kar sakte hain, lekin wo school ya students ke data pe depend nahi"
      ],
      "metadata": {
        "id": "09bO6kF0COmG"
      }
    },
    {
      "cell_type": "markdown",
      "source": [
        "11>What is Method Overloading in Python?\n",
        "\n",
        "\n",
        "ans>\n",
        "\n",
        "-> **Method Overloading** means **having multiple methods** with the same name but different parameters (like in Java/C++).\n",
        "\n",
        "\n",
        "-> Python **does not support** true method overloading because:\n",
        "The **latest defined method with the same name will overwrite the previous ones**.\n",
        "\n",
        "\n",
        "\n",
        "\n",
        "\n",
        "---\n",
        "How python handles it\n",
        "\n",
        "   Instead of true overloading, Python uses:\n",
        "\n",
        "     1. Default arguments\n",
        "\n",
        "     2. Variable-length arguments ( *args , **kwargs )\n",
        "\n",
        "     This way, a single method can handle different numbers of parameters.\n",
        "\n"
      ],
      "metadata": {
        "id": "kNrc_XVBC9OR"
      }
    },
    {
      "cell_type": "code",
      "source": [
        "# Example1: Default Arguments\n",
        "class Calculator:\n",
        "    def add(self, a=0, b=0, c=0):\n",
        "        return a + b + c\n",
        "calc = Calculator()\n",
        "print(calc.add(2)) # 2\n",
        "print(calc.add(2, 3)) # 5\n",
        "print(calc.add(2, 3, 4)) # 9"
      ],
      "metadata": {
        "colab": {
          "base_uri": "https://localhost:8080/"
        },
        "id": "Z3xKQ4CAEglz",
        "outputId": "7027c77c-cc78-4aeb-89ba-f6e5a5ba852c"
      },
      "execution_count": null,
      "outputs": [
        {
          "output_type": "stream",
          "name": "stdout",
          "text": [
            "2\n",
            "5\n",
            "9\n"
          ]
        }
      ]
    },
    {
      "cell_type": "code",
      "source": [
        "#Example2: Variable-Length Arguments\n",
        "\n",
        "class Calculator:\n",
        "    def add(self, *args):\n",
        "        return sum(args)\n",
        "calc = Calculator()\n",
        "print(calc.add(5))\n",
        "print(calc.add(2, 3, 4)) # 9\n",
        "print(calc.add(10, 20, 30, 40)) # 100"
      ],
      "metadata": {
        "colab": {
          "base_uri": "https://localhost:8080/"
        },
        "id": "ZWbwp3y1EzES",
        "outputId": "a9734b58-75ff-451c-c07a-3df1fb6a72b5"
      },
      "execution_count": null,
      "outputs": [
        {
          "output_type": "stream",
          "name": "stdout",
          "text": [
            "5\n",
            "9\n",
            "100\n"
          ]
        }
      ]
    },
    {
      "cell_type": "markdown",
      "source": [
        "12> What is Method Overriding in OOP?\n",
        "\n",
        "ans>\n",
        "\n",
        "-> **Method Overriding** occurs when a child class provides a specific     implementation of a method that is already defined in its parent\n",
        "class.\n",
        "\n",
        "\n",
        "-> The method in the child class must have:\n",
        "\n",
        "        -> The same name\n",
        "        -> The same number of parameters\n",
        "        -> as the method in the parent class.\n",
        "\n",
        "\n",
        "\n",
        "         #Key points\n",
        "\n",
        "\n",
        "         1. Method overriding is used to change or extend the behavior of a parent class method.\n",
        "         \n",
        "         2. It supports Runtime Polymorphism (decision happens at runtime).\n",
        "\n",
        "         3. The parent class method is replaced (or extended) when called using a child class object.\n",
        "\n"
      ],
      "metadata": {
        "id": "wIVDnXNzFRgk"
      }
    },
    {
      "cell_type": "code",
      "source": [
        "#example 1\n",
        "\n",
        "# Basic Overriding\n",
        "\n",
        "class Animal:\n",
        "    def sound(self):\n",
        "        return \"Some generic sound\"\n",
        "\n",
        "class Dog(Animal):\n",
        "    def sound(self): # Overriding the parent method\n",
        "        return \"Bark\"\n",
        "\n",
        "class Cat(Animal):\n",
        "    def sound(self): # Overriding again\n",
        "        return \"Meow\"\n",
        "\n",
        "# Test\n",
        "dog = Dog()\n",
        "cat = Cat()\n",
        "print(dog.sound()) # Bark\n",
        "print(cat.sound()) # Meow"
      ],
      "metadata": {
        "colab": {
          "base_uri": "https://localhost:8080/"
        },
        "id": "ug8P4clsGbjx",
        "outputId": "af83dacb-8047-43cb-c3a6-3638729a2b14"
      },
      "execution_count": null,
      "outputs": [
        {
          "output_type": "stream",
          "name": "stdout",
          "text": [
            "Bark\n",
            "Meow\n"
          ]
        }
      ]
    },
    {
      "cell_type": "code",
      "source": [
        "#example 2\n",
        "\n",
        "# Using super() in Overriding\n",
        "\n",
        "\n",
        "class Vehicle:\n",
        "    def info(self):\n",
        "        return \"This is a vehicle.\"\n",
        "class Car(Vehicle):\n",
        "    def info(self):\n",
        "# Extending parent method using super()\n",
        "        return super().info() + \" Specifically, it is a car.\"\n",
        "# Test\n",
        "car = Car()\n",
        "print(car.info()) # This is a vehicle. Specifically, it is a car."
      ],
      "metadata": {
        "colab": {
          "base_uri": "https://localhost:8080/"
        },
        "id": "gP4CVfaiGqGg",
        "outputId": "4add0554-34a9-4634-f801-b4bf04dde8d4"
      },
      "execution_count": null,
      "outputs": [
        {
          "output_type": "stream",
          "name": "stdout",
          "text": [
            "This is a vehicle. Specifically, it is a car.\n"
          ]
        }
      ]
    },
    {
      "cell_type": "markdown",
      "source": [
        "13> What is a Property Decorator in Python?\n",
        "\n",
        "\n",
        "ans>\n",
        "\n",
        "**The @property decorator** in Python is used to define methods in a class that can be accessed like attributes (without parentheses).\n",
        "\n",
        "\n",
        "\n",
        "         It allows you to:\n",
        "\n",
        "\n",
        "\n",
        "        1. Encapsulate data (hide internal representation).\n",
        "\n",
        "\n",
        "        2. Provide getter, setter, and deleter functionality in a clean and Pythonic way.\n",
        "\n",
        "        3. This makes your class more readable and maintainable.\n",
        "\n",
        "\n",
        "\n",
        "        Why Use @property ?\n",
        "\n",
        "\n",
        "\n",
        "        Sometimes you want to protect access to a variable and perform extra logic when getting or setting it.\n",
        "\n",
        "\n",
        "        Instead of calling explicit methods ( get_name() , set_name() ), you can use @property to access them as if they were simple\n",
        "        attributes.\n",
        "\n"
      ],
      "metadata": {
        "id": "6tJE7LIeHHL6"
      }
    },
    {
      "cell_type": "code",
      "source": [
        "#example\n",
        "\n",
        "# Using @property\n",
        "class Student:\n",
        "    def __init__(self, name):\n",
        "        self._name = name # private variable convention\n",
        "    @property\n",
        "    def name(self):\n",
        "        return self._name # getter\n",
        "    @name.setter\n",
        "    def name(self, value):\n",
        "        if not value.strip(): # validation\n",
        "            raise ValueError(\"Name cannot be empty!\")\n",
        "        self._name = value # setter\n",
        "    @name.deleter\n",
        "    def name(self):\n",
        "        print(\"Deleting name...\")\n",
        "        del self._name\n",
        "\n",
        "s = Student(\"pikachu\")\n",
        "print(s.name)\n",
        "s.name = \"kyoguer\"\n",
        "print(s.name)\n",
        "del s.name # Calls deleter"
      ],
      "metadata": {
        "colab": {
          "base_uri": "https://localhost:8080/"
        },
        "id": "gExAaizjH0G1",
        "outputId": "1622b4a7-0b94-4100-a7c6-7e9ad43ff642"
      },
      "execution_count": null,
      "outputs": [
        {
          "output_type": "stream",
          "name": "stdout",
          "text": [
            "pikachu\n",
            "kyoguer\n",
            "Deleting name...\n"
          ]
        }
      ]
    },
    {
      "cell_type": "markdown",
      "source": [
        "14>  Why is Polymorphism Important in OOP?\n",
        "\n",
        "\n",
        "ans>\n",
        "\n",
        "\n",
        "Polymorphism means **\"many forms\".**\n",
        "\n",
        "\n",
        "-> In OOP, polymorphism allows the same interface (method/function) to work with different types of objects.\n",
        "\n",
        "\n",
        "\n",
        "  Example: A method draw() can be defined in multiple classes ( Circle , Square , Triangle ) but each class provides its own\n",
        "  implementation.\n",
        "\n",
        "---\n",
        "\n",
        "Importance of Polymorphism\n",
        "\n",
        "\n",
        "1. Code Reusability    \n",
        " -> Same function name can be used for different data types or classes.\n",
        "    Reduces duplication in code.\n",
        "\n",
        "\n",
        "2. Flexibility & Maintainability\n",
        "\n",
        "    -> Makes code more extensible.\n",
        "\n",
        "    -> New classes can be added without changing the existing code structure.\n",
        "\n",
        "\n",
        "3. Readability\n",
        "\n",
        "\n",
        "   -> Clearer and cleaner code because method names stay consistent\n",
        "\n",
        "\n",
        "\n",
        "4. Supports Dynamic Behavior\n",
        "\n",
        "\n",
        "    -> Python resolves which method to call at runtime (dynamic polymorphism).\n",
        "\n",
        "\n",
        "\n",
        "    This enables writing generic and reusable code.\n",
        "\n"
      ],
      "metadata": {
        "id": "DOxwTXdAIoOt"
      }
    },
    {
      "cell_type": "code",
      "source": [
        "#example : polymorphisam in action\n",
        "\n",
        "\n",
        "class Dog:\n",
        "    def sound(self):\n",
        "        return \"Woof!\"\n",
        "class Cat:\n",
        "    def sound(self):\n",
        "        return \"Meow!\"\n",
        "class Cow:\n",
        "    def sound(self):\n",
        "        return \"Moo!\"\n",
        "# Polymorphism: Same method name `sound()` behaves differently\n",
        "animals = [Dog(), Cat(), Cow()]\n",
        "for animal in animals:\n",
        "    print(animal.sound())\n",
        "# Output\n",
        "# Woof!\n",
        "# Meow!\n",
        "# Moo!"
      ],
      "metadata": {
        "colab": {
          "base_uri": "https://localhost:8080/"
        },
        "id": "jlMJxF9IKImY",
        "outputId": "36b7824d-6298-45fa-e22d-a657d895d080"
      },
      "execution_count": null,
      "outputs": [
        {
          "output_type": "stream",
          "name": "stdout",
          "text": [
            "Woof!\n",
            "Meow!\n",
            "Moo!\n"
          ]
        }
      ]
    },
    {
      "cell_type": "markdown",
      "source": [
        "15> What is an Abstract Class in Python?\n",
        "\n",
        "ans> An abstract class is a class that cannot be instantiated directly.\n",
        "It serves as a blueprint for other classes.\n",
        "\n",
        "\n",
        "**Abstract classes can contain:**\n",
        "\n",
        "\n",
        "    \n",
        "    Abstract methods → Methods declared but not implemented.\n",
        "\n",
        "\n",
        "    Concrete methods → Normal methods with implementation.\n",
        "\n",
        "\n",
        "    In Python, abstract classes are created using the abc (Abstract Base Class) module.\n"
      ],
      "metadata": {
        "id": "m5_CVZhm9qxa"
      }
    },
    {
      "cell_type": "markdown",
      "source": [
        "**Why Use Abstract Classes?**\n",
        "\n",
        "1. To define a common interface for all subclasses.\n",
        "\n",
        "2. To enforce implementation of certain methods in subclasses.\n",
        "\n",
        "3. To achieve abstraction in OOP (hiding implementation details).\n"
      ],
      "metadata": {
        "id": "90k_juyD_nBO"
      }
    },
    {
      "cell_type": "code",
      "source": [
        "#example\n",
        "\n",
        "from abc import ABC, abstractmethod\n",
        "# Abstract Class\n",
        "class Vehicle(ABC):\n",
        "  @abstractmethod\n",
        "  def start_engine(self):\n",
        "    pass # abstract method (must be implemented by subclass)\n",
        "  def fuel_type(self):\n",
        "    return \"Petrol or Diesel\" # concrete method\n",
        "\n",
        "# Subclass 1\n",
        "class Car(Vehicle):\n",
        "  def start_engine(self):\n",
        "    return \"Car engine started with key\"\n",
        "# Subclass 2\n",
        "class Bike(Vehicle):\n",
        "  def start_engine(self):\n",
        "    return \"Bike engine started with self-start\"\n",
        "# Objects\n",
        "car = Car()\n",
        "bike = Bike()\n",
        "print(car.start_engine()) # Car engine started with key\n",
        "print(bike.start_engine()) # Bike engine started with self-start"
      ],
      "metadata": {
        "colab": {
          "base_uri": "https://localhost:8080/"
        },
        "id": "zR9urPIG_xXF",
        "outputId": "c6460dbd-a521-4c54-8987-7cbce6bb8320"
      },
      "execution_count": 2,
      "outputs": [
        {
          "output_type": "stream",
          "name": "stdout",
          "text": [
            "Car engine started with key\n",
            "Bike engine started with self-start\n"
          ]
        }
      ]
    },
    {
      "cell_type": "markdown",
      "source": [
        "16>  What are the Advantages of Object-Oriented Programming (OOP)?\n",
        "\n",
        "ans>\n",
        "\n",
        "Object-Oriented Programming (OOP) provides a structured way of writing code by organizing it around objects and classes.\n",
        "It offers several advantages over traditional procedural programming.\n",
        "\n",
        "\n",
        "---\n",
        "\n",
        "\n",
        "\n",
        "**Advantages of OOP**:\n",
        "\n",
        "\n",
        "1. **Modularity (Code Reusability)** ->\n",
        "\n",
        "    Code is divided into classes and objects, making it modular and reusable.\n",
        "    Once a class is created, it can be reused in different programs.\n",
        "\n",
        "2. **Encapsulation (Data Hiding)** ->\n",
        "\n",
        "    Sensitive data can be hidden inside a class and accessed only through defined methods.\n",
        "\n",
        "    This improves security and prevents misuse.\n",
        "\n",
        "3. **Inheritance** ->\n",
        "\n",
        "    Classes can reuse and extend functionality from other classes.\n",
        "\n",
        "    Promotes code reusability and avoids duplication.\n",
        "\n",
        "4. **Polymorphism** ->\n",
        "\n",
        "\n",
        "    The same function or method can work in different ways depending on the object.\n",
        "\n",
        "\n",
        "    Makes the code more flexible and maintainable.\n",
        "\n",
        "5. **Abstraction** ->\n",
        "\n",
        "\n",
        "    Only essential details are shown, while complex implementation is hidden.\n",
        "\n",
        "    Helps in reducing complexity.\n",
        "6. **Maintainability** ->\n",
        "\n",
        "    OOP code is easier to update, modify, and maintain because each class is independent.\n",
        "\n",
        "\n",
        "7. **Scalability** ->\n",
        "\n",
        "    Large projects can be managed efficiently as OOP makes it easier to divide work into modules (classes).\n",
        "\n",
        "\n",
        "\n",
        "---\n",
        "**Summary:**\n",
        "\n",
        "    OOP makes programs modular, reusable, secure, and easier to maintain.\n",
        "\n",
        "\n",
        "    Key benefits: Encapsulation, Inheritance, Polymorphism, Abstraction.\n",
        "\n",
        "\n",
        "    Widely used in real-world applications like banking systems, game development, and enterprise software.\n",
        "\n"
      ],
      "metadata": {
        "id": "mDd666M4ALJ9"
      }
    },
    {
      "cell_type": "markdown",
      "source": [
        "17> What is the difference between a Class Variable and an Instance Variable?\n",
        "\n",
        "ans>   \n",
        "In Python (and OOP in general), variables inside a class can be categorized into class variables and instance variables.\n",
        "They differ in terms of scope, behavior, and how they are shared.\n",
        "\n",
        "\n",
        "\n",
        "\n",
        "---\n",
        "\n",
        "**Class variable** :\n",
        "\n",
        "\n",
        "    Defined inside a class, but outside any instance methods.\n",
        "\n",
        "    Shared by all objects (instances) of the class.\n",
        "     \n",
        "    Changing a class variable affects all objects unless specifically overridden by an instance\n",
        "\n",
        "\n",
        "---\n",
        "\n",
        "**Instance variable** :\n",
        "\n",
        "\n",
        "    Defined inside a constructor ( __init__ ) or methods using self .\n",
        "\n",
        "    Each object has its own copy of instance variables.\n",
        "\n",
        "    Changing an instance variable affects only that specific object.\n",
        "\n",
        "\n",
        "\n",
        "    \n",
        "18>  What is multiple inheritance in Python?  \n",
        "\n",
        "ans>\n",
        "\n",
        "    Multiple inheritance in Python is a feature of object-oriented programming where a single child class can inherit properties and methods from\n",
        "\n",
        "    two or more parent classes simultaneously.\n",
        "\n",
        "    It allows the child class to combine the functionality of multiple classes, promoting code reusability, flexibility, and better modeling of realworld scenarios.\n",
        "example\n"
      ],
      "metadata": {
        "id": "613jo2fCB7FE"
      }
    },
    {
      "cell_type": "code",
      "source": [
        "class Father:\n",
        "  def skill (self):\n",
        "    print(\"shooting\")\n",
        "\n",
        "class Mother:\n",
        "  def skill (self):\n",
        "    print(\"singing\")\n",
        "\n",
        "class Child(Father, Mother):\n",
        "  def skill (self):\n",
        "    print(\"gaming\")\n",
        "    Father.skill(self)\n",
        "    Mother.skill(self)"
      ],
      "metadata": {
        "id": "BYP2dXKmEgKz"
      },
      "execution_count": 19,
      "outputs": []
    },
    {
      "cell_type": "markdown",
      "source": [
        "18> What is multiple inheritance in Python?\n",
        "ans >\n",
        "\n",
        " Multiple inheritance in Python is a feature of object-oriented programming where a single child class can inherit properties and methods from\n",
        "two or more parent classes simultaneously.\n",
        "\n",
        "  \n",
        "It allows the child class to combine the functionality of multiple classes, promoting code reusability, flexibility, and better modeling of realworld scenarios.\n",
        "\n",
        "\n",
        "\n",
        "syntax"
      ],
      "metadata": {
        "id": "pHW8Q4zPhDFR"
      }
    },
    {
      "cell_type": "code",
      "source": [
        "class Parent1:\n",
        "  pass\n",
        "class Parents2:\n",
        "  pass\n",
        "class Child(Parent1, Parents2):\n",
        "  pass\n",
        "\n",
        "#example\n",
        "\n",
        "class Father:\n",
        "  def skill (self):\n",
        "    print(\"shooting\")\n",
        "\n",
        "class Mother:\n",
        "  def skill (self):\n",
        "    print(\"singing\")\n",
        "\n",
        "class Child(Father, Mother):\n",
        "  def skill (self):\n",
        "    print(\" child knows gaaming too\")\n",
        "    c = child ()\n",
        "    c.skill =()\n",
        ""
      ],
      "metadata": {
        "id": "RUibR3ZvhTpL"
      },
      "execution_count": 9,
      "outputs": []
    },
    {
      "cell_type": "markdown",
      "source": [
        "19> Explain the purpose of ‘’str’ and ‘repr’ ‘ methods in Python\n",
        "\n",
        "ans>\n",
        "    In Python, both __str__ and __repr__ are special methods (also called dunder methods — \"double underscore\") that control how objects\n",
        "    are represented as strings. They are very useful when printing or debugging objects.\n",
        "\n",
        "\n",
        "\n",
        "\n",
        "\n",
        "---\n",
        "1. __str__ Method:\n",
        "\n",
        "\n",
        "    Purpose:\n",
        "    \n",
        "    Returns a human-readable string representation of the object.\n",
        "\n",
        "    It is called when you use the print() function or str() on an object.\n",
        "\n",
        "    Should be informal and easy to read for end-users.\n",
        "\n",
        "\n",
        "    example\n",
        "\n"
      ],
      "metadata": {
        "id": "unk9oTZjipA-"
      }
    },
    {
      "cell_type": "code",
      "source": [
        "class Athelete:\n",
        "  def __init__(self, name, sport ):\n",
        "    self.name = name\n",
        "    self.sport = sport\n",
        "  def __str__(self):\n",
        "    return f\"{self.name} plays {self.sport}\"\n",
        "\n",
        "s = Athelete (\"pikachu\", \"cricket\")\n",
        "print(s)"
      ],
      "metadata": {
        "colab": {
          "base_uri": "https://localhost:8080/"
        },
        "id": "-Sqm2JGhjVyS",
        "outputId": "6e8bc06f-4962-4a12-db80-579880399aec"
      },
      "execution_count": 11,
      "outputs": [
        {
          "output_type": "stream",
          "name": "stdout",
          "text": [
            "pikachu plays cricket\n"
          ]
        }
      ]
    },
    {
      "cell_type": "markdown",
      "source": [
        "2. __repr__ Method\n",
        "\n",
        "\n",
        "\n",
        "**Purpose:**\n",
        "\n",
        "\n",
        "    Returns a developer-friendly string representation of the object.\n",
        "\n",
        "    Mainly used for debugging and logging.\n",
        "\n",
        "    The goal is to be unambiguous, often showing the code to recreate the object.\n",
        "\n",
        "    If __str__ is not defined, print() will fallback to __repr__ .\n",
        "\n",
        "example"
      ],
      "metadata": {
        "id": "_IaizsZUkMjn"
      }
    },
    {
      "cell_type": "code",
      "source": [
        "class Athelete:\n",
        "  def __init__(self, name, sport, score):\n",
        "    self.name = name\n",
        "    self.sport = sport\n",
        "    self.score = score\n",
        "  def __repr__(self):\n",
        "    return f\"Athelete('{self.name}', '{self.sport}', {self.score})\"\n",
        "\n",
        "s = Athelete(\"pikachu\", \"cricket\", 100)\n",
        "print(s)"
      ],
      "metadata": {
        "colab": {
          "base_uri": "https://localhost:8080/"
        },
        "id": "aUsrqXsYk1Iq",
        "outputId": "07cdcf87-9b86-4638-f29d-690e8f24f148"
      },
      "execution_count": 14,
      "outputs": [
        {
          "output_type": "stream",
          "name": "stdout",
          "text": [
            "Athelete('pikachu', 'cricket', 100)\n"
          ]
        }
      ]
    },
    {
      "cell_type": "markdown",
      "source": [
        "Key Difference Between __str__ and __repr__\n",
        "\n",
        "---\n",
        "\n",
        "\n",
        "\n",
        "\n",
        "\n",
        "    Feature               __str__ (User-Friendly)               __repr__(Developer-Friendly)\n",
        "\n",
        "    Audience                End-users / casual display          Developers / debugging\n",
        "\n",
        "    Output Style           Readable, nicely formatted           Precise, unambiguous, recreatable\n",
        "\n",
        "\n",
        "\n",
        "    Called By              print(obj) or str(obj)               repr(obj) or interactive shell prompt"
      ],
      "metadata": {
        "id": "69vgAanmlYlh"
      }
    },
    {
      "cell_type": "markdown",
      "source": [
        "20> What is the significance of the ‘super()’ function in Python?\n",
        "\n",
        "\n",
        "ans>\n",
        "\n",
        "    The super() function is a built-in function in Python that allows us to call methods from a parent (superclass) inside a child (subclass).\n",
        "    It is mainly used in inheritance to avoid rewriting code and to ensure proper method resolution when multiple classes are involved.\n",
        "\n",
        "---\n",
        "\n",
        "Why Use super() ?\n",
        "\n",
        "\n",
        "    Code Reusability: Prevents duplicate code by reusing parent class methods.\n",
        "\n",
        "\n",
        "    Maintainability: If the parent class changes, child classes automatically inherit updated behavior.\n",
        "\n",
        "\n",
        "    Supports Multiple Inheritance: Works with Python's MRO (Method Resolution Order) to correctly decide which class method to call.\n",
        "\n",
        "\n",
        "    Cleaner Syntax: Avoids hardcoding the parent class name, making the code more flexible.\n",
        "\n"
      ],
      "metadata": {
        "id": "upKKxoD3mYJT"
      }
    },
    {
      "cell_type": "code",
      "source": [
        "# Example: Without super()\n",
        "class Parent:\n",
        "  def __init__(self, name):\n",
        "    self.name = name\n",
        "class Child(Parent):\n",
        "  def __init__(self, name, age):\n",
        "    Parent.__init__(self, name) # explicitly calling Parent\n",
        "    self.age = age\n",
        "c = Child(\"xyz\", 21)\n",
        "print(c.name, c.age)"
      ],
      "metadata": {
        "colab": {
          "base_uri": "https://localhost:8080/"
        },
        "id": "IF3LHrA4mzyk",
        "outputId": "e1bbdb9e-6bc6-411f-a8b0-c2c0254130fa"
      },
      "execution_count": 16,
      "outputs": [
        {
          "output_type": "stream",
          "name": "stdout",
          "text": [
            "xyz 21\n"
          ]
        }
      ]
    },
    {
      "cell_type": "code",
      "source": [
        "#Example: With super()\n",
        "class Parent:\n",
        "  def __init__(self, name):\n",
        "    self.name = name\n",
        "class Child(Parent):\n",
        "  def __init__(self, name, age):\n",
        "    super().__init__(name) # super() automatically finds Parent\n",
        "    self.age = age\n",
        "c = Child(\"Atoz\", 20)\n",
        "print(c.name, c.age)"
      ],
      "metadata": {
        "colab": {
          "base_uri": "https://localhost:8080/"
        },
        "id": "vSejjLJ6nDIx",
        "outputId": "e89413c3-3e15-4063-8314-892f4d030b14"
      },
      "execution_count": 18,
      "outputs": [
        {
          "output_type": "stream",
          "name": "stdout",
          "text": [
            "Atoz 20\n"
          ]
        }
      ]
    },
    {
      "cell_type": "markdown",
      "source": [
        "21> What is the significance of the del method in Python?\n",
        "\n",
        "ans>\n",
        "\n",
        "    In Python, the __del__ method is a destructor method.\n",
        "\n",
        "    It is called automatically when an object is about to be destroyed (i.e., when it goes out of scope or its reference count drops to zero)\n",
        "\n",
        "---\n",
        "\n",
        "Purpose of __del__\n",
        "\n",
        "\n",
        "\n",
        "    Used to free resources (like closing files, releasing network connections, or cleaning up memory).\n",
        "\n",
        "\n",
        "    Called by Python’s garbage collector before the object is removed from memory.\n",
        "\n",
        "\n",
        "    Helps in performing final clean-up tasks.\n",
        "\n",
        "example:\n",
        "\n"
      ],
      "metadata": {
        "id": "3cqo4Gp0nPnN"
      }
    },
    {
      "cell_type": "code",
      "source": [
        "# Basic Use of __del__\n",
        "class Demo:\n",
        "  def __init__(self, name):\n",
        "    self.name = name\n",
        "    print(f\"Object {self.name} created.\")\n",
        "  def __del__(self):\n",
        "    print(f\"Destructor called, object {self.name} deleted.\")\n",
        "\n",
        "obj = Demo(\"Atoz\")\n",
        "del obj\n",
        "\n",
        "\n",
        "   # Automatic Call by Garbage Collector\n",
        "class FileHandler:\n",
        "  def __init__(self, filename):\n",
        "    self.file = open(filename, \"w\")\n",
        "    print(\"File opened.\")\n",
        "  def __del__(self):\n",
        "    self.file.close()\n",
        "    print(\"File closed automatically.\")\n",
        "\n",
        "handler = FileHandler(\"test.txt\")\n",
        "# No explicit del required, __del__ will be called when program ends or object is destroyed\n",
        "# Output\n",
        "# File opened.\n",
        "# File closed automatically."
      ],
      "metadata": {
        "colab": {
          "base_uri": "https://localhost:8080/"
        },
        "id": "fsbpnWb7qmRP",
        "outputId": "7f49251e-db0a-4dee-fc1d-e891c3a35f8f"
      },
      "execution_count": 25,
      "outputs": [
        {
          "output_type": "stream",
          "name": "stdout",
          "text": [
            "Object Atoz created.\n",
            "Destructor called, object Atoz deleted.\n",
            "File opened.\n"
          ]
        }
      ]
    },
    {
      "cell_type": "markdown",
      "source": [
        "22> What is the difference between @staticmethod and @classmethod in Python?\n",
        "\n",
        "ans>\n",
        "\n",
        "    In Python, both @staticmethod and @classmethod are decorators used to define methods inside a class that are not regular instance\n",
        "    methods.\n",
        "\n",
        "    They look similar, but they serve different purposes.\n",
        "\n",
        "---\n",
        "@staticmethod\n",
        "\n",
        "\n",
        "    A static method does not take self (object reference) or cls (class reference) as the first argument.\n",
        "\n",
        "\n",
        "    It behaves like a normal function but belongs to the class’s namespace.\n",
        "    Can be called using either the class name or an instance.\n",
        "\n",
        "\n",
        "    Cannot access or modify class-level data or instance attributes directly.\n",
        "\n",
        "\n"
      ],
      "metadata": {
        "id": "vcirbF5-rdKh"
      }
    },
    {
      "cell_type": "code",
      "source": [
        "#Example:\n",
        "class MathOperations:\n",
        "  @staticmethod\n",
        "  def add(x, y):\n",
        "    return x + y\n",
        "\n",
        "  @staticmethod\n",
        "  def multiply(x, y):\n",
        "    return x * y\n",
        "\n",
        "# Using static methods\n",
        "print(MathOperations.add(5, 3)) # Called using class\n",
        "# Output 8\n",
        "obj = MathOperations()\n",
        "print(obj.add(10, 7)) # Called using object\n",
        "# Output 17"
      ],
      "metadata": {
        "colab": {
          "base_uri": "https://localhost:8080/"
        },
        "id": "vHp4-syir_oY",
        "outputId": "f47526ce-64ae-407f-ce1e-3028e97075ae"
      },
      "execution_count": 27,
      "outputs": [
        {
          "output_type": "stream",
          "name": "stdout",
          "text": [
            "8\n",
            "17\n"
          ]
        }
      ]
    },
    {
      "cell_type": "code",
      "source": [
        "#class method\n",
        "\n",
        "#A class method takes cls (class reference) as the first argument.\n",
        "\n",
        "#It can access and modify class-level variables, but not instance variables directly.\n",
        "\n",
        "\n",
        "#Useful when we want to create factory methods (methods that return class objects).\n",
        "\n",
        "class Student:\n",
        "  count = 0 # Class variable\n",
        "  def __init__(self, name):\n",
        "    self.name = name\n",
        "    Student.count += 1\n",
        "  @classmethod\n",
        "  def get_count(cls):\n",
        "    return f\"Total Students: {cls.count}\"\n",
        "\n",
        "    s1 = Student(\"Atoz\")\n",
        "    s2 = Student(\"xyz\")\n",
        "    print(Student.get_count()) # Output: Total Students: 2"
      ],
      "metadata": {
        "id": "CblFQBQgs6nJ"
      },
      "execution_count": 31,
      "outputs": []
    },
    {
      "cell_type": "markdown",
      "source": [
        "23>  How does polymorphism work in Python with inheritance?\n",
        "\n",
        "ans>\n",
        "\n",
        "\n",
        "    Polymorphism means \"many forms\".\n",
        "\n",
        "    In Python, it allows the same method or operation to behave differently depending on the object that calls it.\n",
        "\n",
        "    When combined with inheritance, polymorphism lets child classes provide their own implementation of methods that are already defined in\n",
        "    the parent class.\n",
        "\n",
        "---\n",
        "\n",
        "**How Polymorphism Works with Inheritance**\n",
        "\n",
        "    A parent class defines a method.\n",
        "\n",
        "    Child classes override (redefine) that method with their own behavior.\n",
        "\n",
        "    When we call the method on different objects, Python automatically decides which version to execute (based on the object type).\n",
        "\n",
        "\n",
        "\n",
        "\n",
        "---\n",
        "**Key Advantages of Polymorphism**\n",
        "\n",
        "\n",
        "\n",
        "\n",
        "\n",
        "    Flexibility: Same interface works with different types of objects.\n",
        "\n",
        "    Reusability: Functions or methods can handle objects of different classes.\n",
        "\n",
        "    Maintainability: Easier to extend programs by adding new subclasses.\n",
        "    \n",
        "\n"
      ],
      "metadata": {
        "id": "w3-qO5SYtXE6"
      }
    },
    {
      "cell_type": "markdown",
      "source": [
        "24> What is method chaining in Python OOP?\n",
        "\n",
        "ans>  \n",
        "\n",
        "    Method chaining is a technique in object-oriented programming where multiple methods are called sequentially on the same object in a\n",
        "    single line.\n",
        "\n",
        "\n",
        "    This is achieved by designing methods to return self , allowing the next method to be called directly on the same instance.\n",
        "\n",
        "\n",
        "\n",
        "\n",
        "---\n",
        "Why Use Method Chaining?\n",
        "\n",
        "\n",
        "\n",
        "    concise Code: Combine multiple operations into a single statement.\n",
        "  \n",
        "\n",
        "  \n",
        "    Fluent Interface: Improves readability and expresses a flow of operations naturally.\n",
        "\n",
        "\n",
        "    Convenient: Reduces the need to repeatedly reference the object."
      ],
      "metadata": {
        "id": "MZrjQwf3uNZe"
      }
    },
    {
      "cell_type": "code",
      "source": [
        "#example simple method chaining\n",
        "\n",
        "class Person:\n",
        "  def __init__(self, name, age):\n",
        "    self.name = name\n",
        "    self.age = age\n",
        "\n",
        "  def set_age(self, age):\n",
        "    self.age = age\n",
        "    return self\n",
        "\n",
        "  def set_name(self, name):\n",
        "    self.name = name\n",
        "    return self\n",
        "\n",
        "  def introduce(self):\n",
        "    print(f\"Hi, I'm {self.name} and I'm {self.age} years old.\")\n",
        "\n",
        "# Example of method chaining:\n",
        "person = Person(\"Initial Name\", 0)\n",
        "person.set_name(\"Atoz\").set_age(3).introduce()"
      ],
      "metadata": {
        "colab": {
          "base_uri": "https://localhost:8080/"
        },
        "id": "LDw4-sOluvB7",
        "outputId": "2a7f586d-3163-4de7-a270-0c85fe6297e8"
      },
      "execution_count": 40,
      "outputs": [
        {
          "output_type": "stream",
          "name": "stdout",
          "text": [
            "Hi, I'm Atoz and I'm 3 years old.\n"
          ]
        }
      ]
    },
    {
      "cell_type": "markdown",
      "source": [
        "**Key Points About Method Chaining**\n",
        "\n",
        "\n",
        "    Methods must return self to enable chaining.\n",
        "\n",
        "\n",
        "    Improves code readability and fluency.\n",
        "\n",
        "    \n",
        "    Widely used in libraries like Pandas, SQLAlchemy, and Matplotlib.\n"
      ],
      "metadata": {
        "id": "F-bP6-EZvvIF"
      }
    },
    {
      "cell_type": "markdown",
      "source": [
        "25> What is the purpose of the call method in Python?\n",
        "\n",
        "ans>\n",
        "\n",
        "    In Python, the __call__ method is a special (dunder) method that allows an instance of a class to be called like a regular function.\n",
        "    This means that after defining __call__ , you can use the object with parentheses () as if it were a function.\n",
        "\n",
        "---\n",
        "\n",
        "Why Use __call__ ?\n",
        "\n",
        "\n",
        "\n",
        "    Function-like behavior: Treat objects as callable functions.\n",
        "\n",
        "\n",
        "\n",
        "    Encapsulation: Combine data and behavior in an object that can still be invoked easily.\n",
        "\n",
        "\n",
        "    \n",
        "    Flexibility: Useful in designing functors, decorators, or APIs where objects need to be callable.\n"
      ],
      "metadata": {
        "id": "NEEP0yiKv4_8"
      }
    },
    {
      "cell_type": "code",
      "source": [
        "#example basic use of call\n",
        "class Adder:\n",
        "  def __init__(self, value):\n",
        "    self.value = value\n",
        "  def __call__(self, x):\n",
        "    return self.value + x\n",
        "\n",
        "add_5 = Adder(5)\n",
        "result = add_5(10)\n",
        "print(result) # Output:"
      ],
      "metadata": {
        "colab": {
          "base_uri": "https://localhost:8080/"
        },
        "id": "N3A_g8qJwOsN",
        "outputId": "40d40d8b-bc25-449c-984a-9f4d09212d83"
      },
      "execution_count": 41,
      "outputs": [
        {
          "output_type": "stream",
          "name": "stdout",
          "text": [
            "15\n"
          ]
        }
      ]
    },
    {
      "cell_type": "markdown",
      "source": [
        "**Key Points About __call__**:\n",
        "\n",
        "\n",
        "    Makes objects callable like functions.\n",
        "\n",
        "\n",
        "    Can accept any number of arguments ( *args and **kwargs ).\n",
        "\n",
        "\n",
        "    Useful in functional programming patterns, decorators, and APIs.\n",
        "\n",
        "\n",
        "    Enhances flexibility and readability when objects encapsulate behavior."
      ],
      "metadata": {
        "id": "_3rzJhCFweFr"
      }
    },
    {
      "cell_type": "markdown",
      "source": [
        "**PRACTICAL QUESTION**\n",
        " 1. Create a parent class Animal with a method speak() that prints a generic\n",
        "message. Create a child class Dog that overrides the speak() method to print \"Bark!\""
      ],
      "metadata": {
        "id": "9LHBn6cOw4T8"
      }
    },
    {
      "cell_type": "code",
      "source": [
        " # Parent class\n",
        "class Animal:\n",
        "  def speak(self):\n",
        "    print(\"This is a generic animal sound\")\n",
        "# Child class\n",
        "class Dog(Animal):\n",
        "  def speak(self):\n",
        "    print(\"Bark!\")\n",
        "animal = Animal()\n",
        "animal.speak()\n",
        "dog = Dog()\n",
        "dog.speak()"
      ],
      "metadata": {
        "colab": {
          "base_uri": "https://localhost:8080/"
        },
        "id": "RrqsWMx7xAEi",
        "outputId": "f0369ebf-7319-4a8f-82f0-3b36d8568535"
      },
      "execution_count": 45,
      "outputs": [
        {
          "output_type": "stream",
          "name": "stdout",
          "text": [
            "This is a generic animal sound\n",
            "Bark!\n"
          ]
        }
      ]
    },
    {
      "cell_type": "markdown",
      "source": [
        "2. Write a program to create an abstract class Shape with a method area(). Derive\n",
        "classes Circle and Rectangle from it and implement the area() method in both.\n",
        "\n"
      ],
      "metadata": {
        "id": "N9A_h5utxzAD"
      }
    },
    {
      "cell_type": "code",
      "source": [
        "from abc import ABC, abstractmethod\n",
        "\n",
        "# Abstract Class\n",
        "class Shape(ABC):\n",
        "  @abstractmethod\n",
        "  def area(self):\n",
        "    pass # abstract method (must be implemented by subclass)\n",
        "\n",
        "# Circle class\n",
        "class Circle(Shape):\n",
        "  def __init__(self, radius):\n",
        "    self.radius = radius\n",
        "  def area(self):\n",
        "    return 3.14 * self.radius * self.radius\n",
        "\n",
        "# Rectangle class\n",
        "class Rectangle(Shape):\n",
        "  def __init__(self, length, width):\n",
        "    self.length = length\n",
        "    self.width = width\n",
        "  def area(self):\n",
        "    return self.length * self.width\n",
        "\n",
        "# Objects\n",
        "c = Circle(5)\n",
        "r = Rectangle(4, 6)\n",
        "\n",
        "print(\"Circle area:\", c.area())\n",
        "print(\"Rectangle area:\", r.area())"
      ],
      "metadata": {
        "colab": {
          "base_uri": "https://localhost:8080/"
        },
        "id": "Mc6hE2uex1jx",
        "outputId": "03449759-daf1-44f0-8c3c-f6651945aa68"
      },
      "execution_count": 47,
      "outputs": [
        {
          "output_type": "stream",
          "name": "stdout",
          "text": [
            "Circle area: 78.5\n",
            "Rectangle area: 24\n"
          ]
        }
      ]
    },
    {
      "cell_type": "markdown",
      "source": [
        "3. Implement a multi-level inheritance scenario where a class Vehicle has an\n",
        "attribute type. Derive a class Car and further derive a class ElectricCar that adds a\n",
        "battery attribute"
      ],
      "metadata": {
        "id": "GbtDkuMuyQkD"
      }
    },
    {
      "cell_type": "code",
      "source": [
        "# Parent class\n",
        "class Vehicle:\n",
        "  def __init__(self, type):\n",
        "    self.type = type\n",
        "# Child class\n",
        "class Car(Vehicle):\n",
        "  def __init__(self, type, model):\n",
        "    super().__init__(type)\n",
        "    self.model = model\n",
        "# Grandchild class\n",
        "class ElectricCar(Car):\n",
        "  def __init__(self, type, model, battery):\n",
        "    super().__init__(type, model)\n",
        "    self.battery = battery\n",
        "ecar = ElectricCar(\"Car\", \"Tesla Model 3\", \"75 kWh\")\n",
        "print(\"Type:\", ecar.type)\n",
        "print(\"Model:\", ecar.model)\n",
        "print(\"Battery:\", ecar.battery)"
      ],
      "metadata": {
        "colab": {
          "base_uri": "https://localhost:8080/"
        },
        "id": "BGSFKY9uyR14",
        "outputId": "840b2035-d06b-4850-ce3d-3cd41450af64"
      },
      "execution_count": 49,
      "outputs": [
        {
          "output_type": "stream",
          "name": "stdout",
          "text": [
            "Type: Car\n",
            "Model: Tesla Model 3\n",
            "Battery: 75 kWh\n"
          ]
        }
      ]
    },
    {
      "cell_type": "markdown",
      "source": [
        "4. Demonstrate polymorphism by creating a base class Bird with a method fly().\n",
        "Create two derived classes Sparrow and Penguin that override the fly() method."
      ],
      "metadata": {
        "id": "wHBcqbI5yfSE"
      }
    },
    {
      "cell_type": "code",
      "source": [
        "# Base class\n",
        "class Bird:\n",
        "  def fly(self):\n",
        "    print(\"Some birds can fly\")\n",
        "\n",
        "class Eagle(Bird):\n",
        "  def fly(self):\n",
        "    print(\"Eagle can fly high\")\n",
        "\n",
        "# Derived class Penguin\n",
        "class Penguin(Bird):\n",
        "  def fly(self):\n",
        "    print(\"Penguin cannot fly\")\n",
        "\n",
        "birds = [Eagle(), Penguin()]\n",
        "for bird in birds:\n",
        "  bird.fly()"
      ],
      "metadata": {
        "colab": {
          "base_uri": "https://localhost:8080/"
        },
        "id": "yt87mLLZygcY",
        "outputId": "ee88c588-3a66-46a9-a19b-4db5e8e63920"
      },
      "execution_count": 51,
      "outputs": [
        {
          "output_type": "stream",
          "name": "stdout",
          "text": [
            "Eagle can fly high\n",
            "Penguin cannot fly\n"
          ]
        }
      ]
    },
    {
      "cell_type": "markdown",
      "source": [
        "5. Write a program to demonstrate encapsulation by creating a class BankAccount\n",
        "with private attributes balance and methods to deposit, withdraw, and check\n",
        "balance.\n"
      ],
      "metadata": {
        "id": "IsdkS13my6K8"
      }
    },
    {
      "cell_type": "code",
      "source": [
        "# Encapsulation example\n",
        "class BankAccount:\n",
        "  def __init__(self, balance):\n",
        "    self.__balance = balance # private attribute\n",
        "\n",
        "  def deposit(self, amount):\n",
        "    self.__balance += amount\n",
        "    print(f\"Deposited: {amount}\")\n",
        "\n",
        "  def withdraw(self, amount):\n",
        "    if amount <= self.__balance:\n",
        "      self.__balance -= amount\n",
        "      print(f\"Withdrawn: {amount}\")\n",
        "    else:\n",
        "      print(\"Insufficient balance\")\n",
        "\n",
        "  def check_balance(self):\n",
        "    print(f\"Balance: {self.__balance}\")\n",
        "\n",
        "account = BankAccount(1000)\n",
        "account.deposit(500)\n",
        "account.withdraw(300)\n",
        "account.check_balance()"
      ],
      "metadata": {
        "colab": {
          "base_uri": "https://localhost:8080/"
        },
        "id": "_ROvg5tsy6_0",
        "outputId": "06aa23a8-20cc-4782-9b3e-20b58c715e5b"
      },
      "execution_count": 53,
      "outputs": [
        {
          "output_type": "stream",
          "name": "stdout",
          "text": [
            "Deposited: 500\n",
            "Withdrawn: 300\n",
            "Balance: 1200\n"
          ]
        }
      ]
    },
    {
      "cell_type": "markdown",
      "source": [
        "6. Demonstrate runtime polymorphism using a method play() in a base class\n",
        "Instrument. Derive classes Guitar and Piano that implement their own version of\n",
        "play().\n"
      ],
      "metadata": {
        "id": "U6kcAwd6zJYn"
      }
    },
    {
      "cell_type": "code",
      "source": [
        "# Base class\n",
        "class Instrument:\n",
        "  def play(self):\n",
        "    print(\"Playing instrument\")\n",
        "# Derived class Guitar\n",
        "class Guitar(Instrument):\n",
        "  def play(self):\n",
        "    print(\"Playing guitar\")\n",
        "# Derived class Piano\n",
        "class Piano(Instrument):\n",
        "  def play(self):\n",
        "    print(\"Playing piano\")\n",
        "# Testing runtime polymorphism\n",
        "instruments = [Guitar(), Piano()]\n",
        "for instrument in instruments:\n",
        "  instrument.play()"
      ],
      "metadata": {
        "colab": {
          "base_uri": "https://localhost:8080/"
        },
        "id": "myImIh3pzKVy",
        "outputId": "205e00c7-d449-4077-dd6a-6313f3eefa03"
      },
      "execution_count": 55,
      "outputs": [
        {
          "output_type": "stream",
          "name": "stdout",
          "text": [
            "Playing guitar\n",
            "Playing piano\n"
          ]
        }
      ]
    },
    {
      "cell_type": "markdown",
      "source": [
        "7. Create a class MathOperations with a class method add_numbers() to add two\n",
        "numbers and a static method subtract_numbers() to subtract two numbers."
      ],
      "metadata": {
        "id": "Roa7TDNWzVD_"
      }
    },
    {
      "cell_type": "code",
      "source": [
        "# Class demonstrating classmethod and staticmethod\n",
        "class MathOperations:\n",
        "  @classmethod\n",
        "  def add_numbers(cls, a, b):\n",
        "    return a + b\n",
        "  @staticmethod\n",
        "  def subtract_numbers(a, b):\n",
        "    return a - b\n",
        "print(\"Addition:\", MathOperations.add_numbers(25, 55))\n",
        "print(\"Subtraction:\", MathOperations.subtract_numbers(25, 55))"
      ],
      "metadata": {
        "colab": {
          "base_uri": "https://localhost:8080/"
        },
        "id": "24AoNUOCzV3z",
        "outputId": "e5082444-2fd8-48d7-c0e0-6ba49b16bfb3"
      },
      "execution_count": 57,
      "outputs": [
        {
          "output_type": "stream",
          "name": "stdout",
          "text": [
            "Addition: 80\n",
            "Subtraction: -30\n"
          ]
        }
      ]
    },
    {
      "cell_type": "markdown",
      "source": [
        "8. Implement a class Person with a class method to count the total number of\n",
        "persons created."
      ],
      "metadata": {
        "id": "k3ORYiABzocB"
      }
    },
    {
      "cell_type": "code",
      "source": [
        "# Class demonstrating counting instances using class method\n",
        "class Person:\n",
        "  count = 0 # Class variable to track number of persons\n",
        "  def __init__(self, name):\n",
        "    self.name = name\n",
        "    Person.count += 1\n",
        "  @classmethod\n",
        "  def total_persons(cls):\n",
        "    return f\"Total Students: {cls.count}\"\n",
        "\n",
        "p1 = Person(\"Atoz\")\n",
        "p2 = Person(\"xyz\")\n",
        "p3 = Person(\"hij\")\n",
        "print(\"Total persons created:\", Person.total_persons())"
      ],
      "metadata": {
        "colab": {
          "base_uri": "https://localhost:8080/"
        },
        "id": "LPQkZxQ2zpPm",
        "outputId": "6da319e4-d492-47a1-c941-5036c51729ae"
      },
      "execution_count": 69,
      "outputs": [
        {
          "output_type": "stream",
          "name": "stdout",
          "text": [
            "Total persons created: Total Students: 3\n"
          ]
        }
      ]
    },
    {
      "cell_type": "markdown",
      "source": [
        "9. Write a class Fraction with attributes numerator and denominator. Override the str\n",
        "method to display the fraction as \"numerator/denominator\"."
      ],
      "metadata": {
        "id": "unhnJCuW0Tor"
      }
    },
    {
      "cell_type": "code",
      "source": [
        "# Class demonstrating operator overloading\n",
        "class Vector:\n",
        "  def __init__(self, x, y):\n",
        "    self.x = x\n",
        "    self.y = y\n",
        "  # Overloading the + operator\n",
        "  def __add__(self, other):\n",
        "    return Vector(self.x + other.x, self.y + other.y)\n",
        "  def __str__(self):\n",
        "    return f\"({self.x}, {self.y})\"\n",
        "v1 = Vector(2, 3)\n",
        "v2 = Vector(4, 5)\n",
        "v3 = v1 + v2\n",
        "print(\"Vector addition:\", v3)"
      ],
      "metadata": {
        "colab": {
          "base_uri": "https://localhost:8080/"
        },
        "id": "39J_OK5B0UW9",
        "outputId": "99cafbf3-eaac-48f4-9eb3-addb4f9a2e03"
      },
      "execution_count": 71,
      "outputs": [
        {
          "output_type": "stream",
          "name": "stdout",
          "text": [
            "Vector addition: (6, 8)\n"
          ]
        }
      ]
    },
    {
      "cell_type": "markdown",
      "source": [
        "11. Create a class Person with attributes name and age. Add a method greet() that\n",
        "prints \"Hello, my name is {name} and I am {age} years old.\""
      ],
      "metadata": {
        "id": "Djws9T820gA3"
      }
    },
    {
      "cell_type": "code",
      "source": [
        "class Person:\n",
        "  def __init__(self, name, age):\n",
        "    self.name = name\n",
        "    self.age = age\n",
        "  def greet(self):\n",
        "    print(f\"Hello, my name is {self.name} and I am {self.age} years old.\")\n",
        "\n",
        "p = Person(\"funti\", 20)\n",
        "p1 = Person(\"bhangedi\", 23)\n",
        "p.greet()\n",
        "p1.greet()"
      ],
      "metadata": {
        "colab": {
          "base_uri": "https://localhost:8080/"
        },
        "id": "1TzbX1IR11bh",
        "outputId": "7e212445-5808-40b3-f9a8-c91001141b75"
      },
      "execution_count": 89,
      "outputs": [
        {
          "output_type": "stream",
          "name": "stdout",
          "text": [
            "Hello, my name is funti and I am 20 years old.\n",
            "Hello, my name is bhangedi and I am 23 years old.\n"
          ]
        }
      ]
    },
    {
      "cell_type": "markdown",
      "source": [
        "12. Implement a class Student with attributes name and grades. Create a method\n",
        "average_grade() to compute the average of the grades."
      ],
      "metadata": {
        "id": "6YFOhmVJ2Dwr"
      }
    },
    {
      "cell_type": "code",
      "source": [
        "# Class demonstrating method to calculate average\n",
        "class Student:\n",
        "  def __init__(self, name, grades):\n",
        "    self.name = name\n",
        "    self.grades = grades # List of grades\n",
        "  def average_grade(self):\n",
        "    return sum(self.grades) / len(self.grades) if self.grades else 0\n",
        "s = Student(\"Atoz\", [85, 90, 78, 92])\n",
        "print(f\"{s.name}'s average grade:\", s.average_grade())"
      ],
      "metadata": {
        "colab": {
          "base_uri": "https://localhost:8080/"
        },
        "id": "4_Ebfp7O2Edu",
        "outputId": "d2116165-76e4-4a58-864a-fbd8c871c81e"
      },
      "execution_count": 91,
      "outputs": [
        {
          "output_type": "stream",
          "name": "stdout",
          "text": [
            "Atoz's average grade: 86.25\n"
          ]
        }
      ]
    },
    {
      "cell_type": "markdown",
      "source": [
        "13. Create a class Rectangle with methods set_dimensions() to set the dimensions\n",
        "and area() to calculate the area.\n"
      ],
      "metadata": {
        "id": "-kDTHUlM2Q0K"
      }
    },
    {
      "cell_type": "code",
      "source": [
        "# Base class\n",
        "class Employee:\n",
        "  def __init__(self, name, hours_worked, hourly_rate):\n",
        "    self.name = name\n",
        "    self.hours_worked = hours_worked\n",
        "    self.hourly_rate = hourly_rate\n",
        "  def calculate_salary(self):\n",
        "    return self.hours_worked * self.hourly_rate\n",
        "# Derived class\n",
        "class Manager(Employee):\n",
        "  def __init__(self, name, hours_worked, hourly_rate, bonus):\n",
        "    super().__init__(name, hours_worked, hourly_rate)\n",
        "    self.bonus = bonus\n",
        "  def calculate_salary(self):\n",
        "    return super().calculate_salary() + self.bonus\n",
        "\n",
        "emp = Employee(\"Atoz\", 40, 50)\n",
        "mgr = Manager(\"xyz\", 40, 50, 1000)\n",
        "print(f\"{emp.name}'s salary:\", emp.calculate_salary())\n",
        "print(f\"{mgr.name}'s salary:\", mgr.calculate_salary())"
      ],
      "metadata": {
        "colab": {
          "base_uri": "https://localhost:8080/"
        },
        "id": "DfgJQaXD2R5y",
        "outputId": "79776578-9784-43f9-cf1e-f7a0e19ecb66"
      },
      "execution_count": 95,
      "outputs": [
        {
          "output_type": "stream",
          "name": "stdout",
          "text": [
            "Atoz's salary: 2000\n",
            "xyz's salary: 3000\n"
          ]
        }
      ]
    },
    {
      "cell_type": "markdown",
      "source": [
        "15. Create a class Product with attributes name, price, and quantity. Implement a\n",
        "method total_price() that calculates the total price of the product."
      ],
      "metadata": {
        "id": "JkeriTwH2qep"
      }
    },
    {
      "cell_type": "code",
      "source": [
        "# Product class with total_price method\n",
        "class Product:\n",
        "  def __init__(self, name, price, quantity):\n",
        "    self.name = name\n",
        "    self.price = price\n",
        "    self.quantity = quantity\n",
        "  def total_price(self):\n",
        "    return self.price * self.quantity\n",
        "\n",
        "p = Product(\"mobile\", 50000, 30)\n",
        "print(f\"{p.name}'s total price:\", p.total_price())"
      ],
      "metadata": {
        "colab": {
          "base_uri": "https://localhost:8080/"
        },
        "id": "zABoXYqa2r2q",
        "outputId": "b5532642-f123-4df0-eac6-2084ee7cb169"
      },
      "execution_count": 97,
      "outputs": [
        {
          "output_type": "stream",
          "name": "stdout",
          "text": [
            "mobile's total price: 1500000\n"
          ]
        }
      ]
    },
    {
      "cell_type": "markdown",
      "source": [
        "16. Create a class Animal with an abstract method sound(). Create two derived\n",
        "classes Cow and Sheep that implement the sound() method"
      ],
      "metadata": {
        "id": "EIiAH-xL3Seb"
      }
    },
    {
      "cell_type": "code",
      "source": [
        "from abc import ABC, abstractmethod\n",
        "# Abstract class\n",
        "class Animal(ABC):\n",
        "  @abstractmethod\n",
        "  def sound(self):\n",
        "    pass\n",
        "# Derived class Cow\n",
        "class Cow(Animal):\n",
        "  def sound(self):\n",
        "    print(\"Moo\")\n",
        "# Derived class Sheep\n",
        "class Sheep(Animal):\n",
        "  def sound(self):\n",
        "    print(\"Baa\")\n",
        "cow = Cow()\n",
        "sheep = Sheep()\n",
        "cow.sound()\n",
        "sheep.sound()"
      ],
      "metadata": {
        "colab": {
          "base_uri": "https://localhost:8080/"
        },
        "id": "VlNvWwzs3TMs",
        "outputId": "9145ceed-0b68-49ee-f93d-4c32e308ed13"
      },
      "execution_count": 99,
      "outputs": [
        {
          "output_type": "stream",
          "name": "stdout",
          "text": [
            "Moo\n",
            "Baa\n"
          ]
        }
      ]
    },
    {
      "cell_type": "markdown",
      "source": [
        "17. Create a class Book with attributes title, author, and year_published. Add a\n",
        "method get_book_info() that returns a formatted string with the book's details."
      ],
      "metadata": {
        "id": "9n7NmwDL3dkA"
      }
    },
    {
      "cell_type": "code",
      "source": [
        "# Book class with get_book_info method\n",
        "class Book:\n",
        "  def __init__(self, title, author, year_published):\n",
        "    self.title = title\n",
        "    self.author = author\n",
        "    self.year_published = year_published\n",
        "  def get_book_info(self):\n",
        "    return f\"'{self.title}' by {self.author}, published in {self.year_published}\"\n",
        "\n",
        "b = Book(\"Animal farm\", \"George Orwell\", 1945)\n",
        "print(b.get_book_info())"
      ],
      "metadata": {
        "colab": {
          "base_uri": "https://localhost:8080/"
        },
        "id": "Ul978zUB3evd",
        "outputId": "f566a1f1-daa2-4ba1-d385-557af9f595b9"
      },
      "execution_count": 102,
      "outputs": [
        {
          "output_type": "stream",
          "name": "stdout",
          "text": [
            "'Animal farm' by George Orwell, published in 1945\n"
          ]
        }
      ]
    },
    {
      "cell_type": "markdown",
      "source": [
        "18. Create a class House with attributes address and price. Create a derived class\n",
        "Mansion that adds an attribute number_of_rooms."
      ],
      "metadata": {
        "id": "UlOSVQH9360h"
      }
    },
    {
      "cell_type": "code",
      "source": [
        "# Parent class\n",
        "class House:\n",
        "  def __init__(self, address, price):\n",
        "    self.address = address\n",
        "    self.price = price\n",
        "# Derived class\n",
        "class Mansion(House):\n",
        "  def __init__(self, address, price, number_of_rooms):\n",
        "    super().__init__(address, price)\n",
        "    self.number_of_rooms = number_of_rooms\n",
        "v = Mansion(\"123 Main St\", 250000, 4)\n",
        "print(\"Address:\", v.address)\n",
        "print(\"Price:\", v.price)\n",
        "print(\"Number of Rooms:\", v.number_of_rooms)"
      ],
      "metadata": {
        "colab": {
          "base_uri": "https://localhost:8080/"
        },
        "id": "pg12PDhd37w3",
        "outputId": "7662d3f4-9eae-4a2c-ce8e-a9f2c899ac90"
      },
      "execution_count": 104,
      "outputs": [
        {
          "output_type": "stream",
          "name": "stdout",
          "text": [
            "Address: 123 Main St\n",
            "Price: 250000\n",
            "Number of Rooms: 4\n"
          ]
        }
      ]
    }
  ]
}